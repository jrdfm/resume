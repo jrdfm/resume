{
 "cells": [
  {
   "attachments": {},
   "cell_type": "markdown",
   "metadata": {},
   "source": [
    "Python implementations of \n",
    "- Principal component analysis\n",
    "- Linear discriminant analysis\n",
    "- Bayes classifier and\n",
    "- k-Nearest Neighbors classifier \n",
    "Then application on the Olivetti faces dataset to \n",
    "\n",
    "Part I: identification of the subject label from a test image and \n",
    "\n",
    "Part II: neutral vs. facial expression classification\n",
    "\n",
    "Can also be run using the files part_1.py & part_2.py which will load datasets ,illumination.mat and data.mat,respectively\n",
    "do the experiments and printout the results,\n",
    " can be run from terminal with\n",
    "\n",
    "python3 task_1.py/task_1.py\n",
    "\n",
    "Or you can include any of the following files in a python code and call the functions within\n",
    "\n",
    "- pca.py\n",
    "- lda.py\n",
    "- bayes.py\n",
    "- knn.py\n",
    "\n",
    "The functions follow similar libraries conventions\n",
    "pca expects number of components and a Boolean for whitening\n",
    "lda can be called with components too, but if None it will return the max # of discriminants (# classes - 1)\n",
    "bays takes no argument to initialize and knn needs the number of neighbors\n",
    "\n",
    "Because of the shuffle split for train and test accuracy may go up and down a little on every run,\n",
    "to see the general trend please rerun them couple of times.\n"
   ]
  },
  {
   "attachments": {},
   "cell_type": "markdown",
   "metadata": {},
   "source": [
    "# Facial recognition on the Olivetti faces dataset"
   ]
  },
  {
   "cell_type": "code",
   "execution_count": 1,
   "metadata": {},
   "outputs": [],
   "source": [
    "import numpy as np\n",
    "import random\n",
    "from scipy.io import loadmat\n",
    "import matplotlib.pyplot as plt"
   ]
  },
  {
   "cell_type": "code",
   "execution_count": 2,
   "metadata": {},
   "outputs": [],
   "source": [
    "# import implementations of PCA, LDA, BAYES and KNN \n",
    "from pca import *\n",
    "from bayes import *\n",
    "from knn import *\n",
    "from lda import *"
   ]
  },
  {
   "attachments": {},
   "cell_type": "markdown",
   "metadata": {},
   "source": [
    "### Part 1\n",
    "#### Identifying subject label"
   ]
  },
  {
   "cell_type": "code",
   "execution_count": 3,
   "metadata": {},
   "outputs": [],
   "source": [
    "data_folder = './Data/' \n",
    "# Test Ratio\n",
    "test_ratio = 0.2\n",
    "# Random Seed\n",
    "np.random.seed(13)\n",
    "illum = loadmat(data_folder+'illumination.mat')['illum']\n",
    "# Convert the dataset in data vectors and labels for subject identification\n",
    "data = []\n",
    "labels = []\n",
    "for subject in range(illum.shape[2]):\n",
    "    for image in range(illum.shape[1]):\n",
    "        data.append(illum[:,image,subject])\n",
    "        labels.append(subject)\n",
    "\n",
    "# Split to train and test data        \n",
    "N = int( (1-test_ratio)*len(data) )\n",
    "idx = np.arange(len(data))\n",
    "random.shuffle(idx)\n",
    "tmp = np.asarray(data)\n",
    "l =np.asarray(labels)\n",
    "train_data = tmp[idx[:N]]\n",
    "train_labels = l[idx[:N]]\n",
    "test_data = tmp[idx[N:]]\n",
    "test_labels = l[idx[N:]]"
   ]
  },
  {
   "cell_type": "markdown",
   "metadata": {},
   "source": [
    "To see how many components we need to keep we need to figure out how much of the variance is explained by the components.\n",
    "The Principal Components should explain at least 80% of the variance. To do that we calculate eigenvalues and their variance and do a scree plot. To make things easier the PCA function provides explained variance we can use to plot.\n",
    "\n",
    "We call the PCA function with the number of components we need to keep and a boolean for whitening.Which can be useful in image classification where the input data is redundant because adjacent pixels are highly correlated. Whitening makes the features less correlated by projecting the dataset onto the eigenvectors and normalize the dataset by dividing each component by the square root of its eigenvalue. \n",
    " "
   ]
  },
  {
   "cell_type": "code",
   "execution_count": 17,
   "metadata": {},
   "outputs": [
    {
     "data": {
      "image/png": "[encoded data removed]",
      "text/plain": [
       "<Figure size 576x360 with 1 Axes>"
      ]
     },
     "metadata": {
      "needs_background": "light"
     },
     "output_type": "display_data"
    }
   ],
   "source": [
    "pca=PCA(20, False) # fit PCA with 20 components for plotting\n",
    "pca.fit(tmp)\n",
    "cum_var = [np.sum(pca.explained_variance[:i+1]) for i in range(len(pca.explained_variance))] \n",
    "x_labels = ['{}'.format(i+1) for i in range(len(pca.explained_variance))]\n",
    "fig, ax = plt.subplots()\n",
    "ax.set_xlabel('Number of principal components')\n",
    "ax.set_ylabel('Proportion of variance')\n",
    "ax.set_title('Principal components and Explained variance')\n",
    "ax.grid()\n",
    "fig.set_figwidth(8)\n",
    "fig.set_figheight(5)\n",
    "ax = plt.subplot()\n",
    "ax.bar(x_labels,pca.explained_variance)\n",
    "ax.plot(x_labels,cum_var)\n",
    "for val in range(len(pca.explained_variance)):\n",
    "    ax.annotate(r\"%s\" % ((str(pca.explained_variance[val]*100)[:3])), (x_labels[val],pca.explained_variance[val]), va = 'bottom',ha = 'center',fontsize =9)\n"
   ]
  },
  {
   "cell_type": "markdown",
   "metadata": {},
   "source": [
    "As it can be seen above the first component explains about 23% of the variance, the first two 45%  and so on. If we keep the first 20 components we will retain 97.5% of the variance. Which is so much better than the original data in terms of dimensions."
   ]
  },
  {
   "cell_type": "markdown",
   "metadata": {},
   "source": [
    "We'll first do the classification with just Bayes and KNN classifiers to see how much better they would do on their own vs with PCA and LDA.   "
   ]
  },
  {
   "cell_type": "code",
   "execution_count": 62,
   "metadata": {},
   "outputs": [],
   "source": [
    "# Accuracy function that'll be used throughout \n",
    "def accuracy(y_true, y_pred):\n",
    "    accuracy = np.sum(y_true == y_pred) / len(y_true)\n",
    "    return accuracy*100"
   ]
  },
  {
   "cell_type": "code",
   "execution_count": 8,
   "metadata": {},
   "outputs": [
    {
     "name": "stdout",
     "output_type": "stream",
     "text": [
      "KNN classification accuracy 81.46853146853147\n",
      "Naive Bayes classification accuracy 49.3006993006993\n"
     ]
    }
   ],
   "source": [
    "\n",
    "X_train, X_test, y_train, y_test = train_data,test_data,train_labels,test_labels\n",
    "\n",
    "# KNN\n",
    "k = 4\n",
    "clf = KNN(k)\n",
    "clf.fit(train_data, train_labels)\n",
    "predictions = clf.predict(test_data)\n",
    "print(\"KNN classification accuracy\", accuracy(test_labels, predictions))\n",
    "# bayes\n",
    "nb = BAYES()\n",
    "nb.fit(X_train, y_train)\n",
    "predictions = nb.predict(X_test)\n",
    "print(\"Naive Bayes classification accuracy\", accuracy(y_test, predictions))"
   ]
  },
  {
   "cell_type": "markdown",
   "metadata": {},
   "source": [
    "The KNN classifier seems to do ok on its own and Bayes classifier does a little bit worse than guessing. Now lets actually apply PCA to our data and rerun the classification.\n",
    "From trial and error I've found out the classifiers do best with number of principal components equal to 35. "
   ]
  },
  {
   "cell_type": "code",
   "execution_count": 15,
   "metadata": {},
   "outputs": [],
   "source": [
    "n_components = 35\n",
    "pca=PCA(n_components, whiten=True)\n",
    "pca.fit(train_data)\n",
    "X_train_pca=pca.transform(train_data)\n",
    "#pca.fit(test_data)\n",
    "X_test_pca=pca.transform(test_data)"
   ]
  },
  {
   "cell_type": "code",
   "execution_count": 18,
   "metadata": {},
   "outputs": [
    {
     "name": "stdout",
     "output_type": "stream",
     "text": [
      "KNN with PCA classification accuracy 89.5104895104895\n",
      "Naive Bayes with PCA classification accuracy 74.82517482517483\n"
     ]
    }
   ],
   "source": [
    "# KNN\n",
    "k = 4\n",
    "clf = KNN(k)\n",
    "clf.fit(X_train_pca, train_labels)\n",
    "predictions = clf.predict(X_test_pca)\n",
    "print(\"KNN with PCA classification accuracy\", accuracy(test_labels, predictions))\n",
    "\n",
    "# Bayes\n",
    "nb = BAYES()\n",
    "nb.fit(X_train_pca, train_labels)\n",
    "predictions = nb.predict(X_test_pca)\n",
    "print(\"Naive Bayes with PCA classification accuracy\", accuracy(test_labels, predictions))\n"
   ]
  },
  {
   "cell_type": "markdown",
   "metadata": {},
   "source": [
    "KNN had an accuracy gain of almost 10% and Bayes about 25%, with PCA compared to without. I tried running the experiments with just 20 components, since it explains 97.5% of the variance, but 35 components was better. It seems like the last 2-3% of variance really helps fine tune the prediction.\n",
    "\n",
    "We will next move onto doing Linear discriminant analysis, which unlike PCA is a supervised dimensionality reduction technique. While PCA doesn't require any class information LDA needs class labels to maximize class separability.   \n",
    "\n",
    "When I applied LDA on itself on the original dataset I kept getting an error because SW was a singular matrix and thus invertible. I tried adding an identity matrix of the same size multiplied by a small constant, 1e-9, but still got overflow errors in the bayes classifier. Which was apparently dividing by a very small number while calculating pdf. The solution I found was to do PCA on the original data first and then LDA, and again from trial and error PCA with 35 components followed by LDA with 11 components yielded the best results.  "
   ]
  },
  {
   "cell_type": "code",
   "execution_count": 19,
   "metadata": {},
   "outputs": [
    {
     "name": "stdout",
     "output_type": "stream",
     "text": [
      "KNN with PCA & LDA classification accuracy 91.25874125874127\n",
      "Naive Bayes with PCA & LDA classification accuracy 83.56643356643356\n"
     ]
    }
   ],
   "source": [
    "lda = LDA(11)\n",
    "lda.fit(X_train_pca, train_labels)\n",
    "X_projected = lda.transform(X_train_pca)\n",
    "#lda.fit(X_test_pca, test_labels)\n",
    "X_test_projected = lda.transform(X_test_pca)\n",
    "k = 4\n",
    "clf = KNN(k)\n",
    "clf.fit(X_projected, train_labels)\n",
    "predictions = clf.predict(X_test_projected)\n",
    "print(\"KNN with PCA & LDA classification accuracy\", accuracy(test_labels, predictions))\n",
    "n =  BAYES()\n",
    "n.fit(X_projected, train_labels)\n",
    "predictions = n.predict(X_test_projected)\n",
    "print(\"Naive Bayes with PCA & LDA classification accuracy\", accuracy(test_labels, predictions))\n"
   ]
  },
  {
   "cell_type": "markdown",
   "metadata": {},
   "source": [
    "As it can be seen above KNN with PCA and LDA got 91% of its predictions right, and Bayes 83% which is much better than 49% earlier. A little note here because the dataset is split based on a random shuffle the accuracy percentages go up and down a little every time I reran the experiment with a different shuffle. \n",
    "The best performance over all was KNN with PCA and LDA, 94.4% and Bayes with PCA and LDA 89%."
   ]
  },
  {
   "attachments": {},
   "cell_type": "markdown",
   "metadata": {},
   "source": [
    "## Part 2 \n",
    "### Neutral vs. Facial expression classification"
   ]
  },
  {
   "cell_type": "code",
   "execution_count": 25,
   "metadata": {},
   "outputs": [],
   "source": [
    "# Load data.mat\n",
    "Ns = 200 \n",
    "face = loadmat(data_folder+'data.mat')['face']\n",
    "face_n = [face[:,:,3*n] for n in range(Ns)] # neutral\n",
    "face_x = [face[:,:,3*n+1] for n in range(Ns)] # expression\n",
    "face_il = [face[:,:,3*n+2] for n in range(Ns)] # illumination variation\n",
    "data = []\n",
    "labels = []\n",
    "for subject in range(Ns):  \n",
    "    data.append(face_n[subject].reshape(-1))\n",
    "    labels.append(0)\n",
    "    data.append(face_x[subject].reshape(-1))\n",
    "    labels.append(1)\n",
    "# Split to train and test data        \n",
    "N = int( (1-test_ratio)*len(data) )\n",
    "idx = np.arange(len(data))\n",
    "random.shuffle(idx)\n",
    "tmp = np.asarray(data)\n",
    "l =np.asarray(labels)\n",
    "train_data = tmp[idx[:N]]\n",
    "train_labels = l[idx[:N]]\n",
    "test_data = tmp[idx[N:]]\n",
    "test_labels = l[idx[N:]]\n",
    "\n",
    "X_train, X_test, y_train, y_test = train_data,test_data,train_labels,test_labels"
   ]
  },
  {
   "cell_type": "markdown",
   "metadata": {},
   "source": [
    "Just like we did above let's first do a scree plot to see the explained variance. "
   ]
  },
  {
   "cell_type": "code",
   "execution_count": 26,
   "metadata": {},
   "outputs": [
    {
     "data": {
      "image/png": "[encoded data removed]",
      "text/plain": [
       "<Figure size 576x360 with 1 Axes>"
      ]
     },
     "metadata": {
      "needs_background": "light"
     },
     "output_type": "display_data"
    }
   ],
   "source": [
    "pca=PCA(20, False)\n",
    "pca.fit(tmp)\n",
    "\n",
    "cum_var = [np.sum(pca.explained_variance[:i+1]) for i in range(len(pca.explained_variance))] \n",
    "x_labels = ['{}'.format(i+1) for i in range(len(pca.explained_variance))]\n",
    "fig, ax = plt.subplots()\n",
    "ax.set_xlabel('Number of principal components')\n",
    "ax.set_ylabel('Proportion of variance')\n",
    "ax.set_title('Principal components and Explained variance')\n",
    "ax.grid()\n",
    "fig.set_figwidth(8)\n",
    "fig.set_figheight(5)\n",
    "ax = plt.subplot()\n",
    "ax.bar(x_labels,pca.explained_variance)\n",
    "ax.plot(x_labels,cum_var)\n",
    "for val in range(len(pca.explained_variance)):\n",
    "    ax.annotate(r\"%s\" % ((str(pca.explained_variance[val]*100)[:3])), (x_labels[val],pca.explained_variance[val]), va = 'bottom',ha = 'center',fontsize =9)\n"
   ]
  },
  {
   "cell_type": "markdown",
   "metadata": {},
   "source": [
    "It looks like the first principal component explains only 11% of the variance and we might need to keep more components. Let's first get a baseline for performance by running the classifiers without PCA and LDA. "
   ]
  },
  {
   "cell_type": "code",
   "execution_count": 47,
   "metadata": {},
   "outputs": [
    {
     "name": "stdout",
     "output_type": "stream",
     "text": [
      "Naive Bayes classification accuracy 56.25\n",
      "KNN classification accuracy 75.0\n"
     ]
    }
   ],
   "source": [
    "# Bayes\n",
    "nb = BAYES()\n",
    "nb.fit(X_train, y_train)\n",
    "predictions = nb.predict(X_test)\n",
    "print(\"Naive Bayes classification accuracy\", accuracy(y_test, predictions))\n",
    "# KNN\n",
    "k = 4\n",
    "clf = KNN(k=k)\n",
    "clf.fit(X_train, y_train)\n",
    "predictions = clf.predict(X_test)\n",
    "print(\"KNN classification accuracy\", accuracy(y_test, predictions))"
   ]
  },
  {
   "cell_type": "markdown",
   "metadata": {},
   "source": [
    "They bayes classifier by itself does a little better than chance and KNN gets it right 3/4 of the time. Let's see what doing PCA and LDA will result in. "
   ]
  },
  {
   "cell_type": "code",
   "execution_count": 48,
   "metadata": {},
   "outputs": [
    {
     "name": "stdout",
     "output_type": "stream",
     "text": [
      "Naive Bayes with PCA classification accuracy 76.25\n",
      "KNN with PCA classification accuracy 86.25\n"
     ]
    }
   ],
   "source": [
    "n_components = 11\n",
    "pca=PCA(n_components, whiten=False)\n",
    "pca.fit(train_data)\n",
    "X_train_pca=pca.transform(train_data)\n",
    "#pca.fit(test_data)\n",
    "X_test_pca=pca.transform(test_data)\n",
    "nb =BAYES()\n",
    "nb.fit(X_train_pca, train_labels)\n",
    "predictions = nb.predict(X_test_pca)\n",
    "print(\"Naive Bayes with PCA classification accuracy\", accuracy(test_labels, predictions))\n",
    "k = 4   \n",
    "clf = KNN(k=k)\n",
    "clf.fit(X_train_pca, train_labels)\n",
    "predictions = clf.predict(X_test_pca)\n",
    "print(\"KNN with PCA classification accuracy\", accuracy(test_labels, predictions))"
   ]
  },
  {
   "cell_type": "markdown",
   "metadata": {},
   "source": [
    "Bayes seems to do about 20% better with PCA and KNN with 4 neighbors about 10% better. I rerun the above experiment couple of times and 11 components got the best accuracy for PCA and later when LDA was done on it.\n",
    "\n",
    "Another note here I used the cell below to filter a complex casting error message  Bayes kept running into   while calculating mean after LDA is performed on the data. It seemed benign and didn't affect the accuracy, and it only comes up in this particular case.    "
   ]
  },
  {
   "cell_type": "code",
   "execution_count": 38,
   "metadata": {},
   "outputs": [],
   "source": [
    "import warnings\n",
    "warnings.filterwarnings(\"ignore\", message=\"Casting complex values to real discards the imaginary part\")"
   ]
  },
  {
   "cell_type": "code",
   "execution_count": 49,
   "metadata": {},
   "outputs": [
    {
     "name": "stdout",
     "output_type": "stream",
     "text": [
      "Naive Bayes with LDA classification accuracy 91.25\n",
      "KNN with LDA classification accuracy 90.0\n"
     ]
    }
   ],
   "source": [
    "lda = LDA(2)\n",
    "lda.fit(X_train_pca, train_labels)\n",
    "X_projected = lda.transform(X_train_pca)\n",
    "#lda.fit(X_test_pca, test_labels)\n",
    "X_test_projected = lda.transform(X_test_pca)\n",
    "nb = BAYES()\n",
    "nb.fit(X_projected, train_labels)\n",
    "predictions = nb.predict(X_test_projected)\n",
    "print(\"Naive Bayes with LDA classification accuracy\", accuracy(test_labels, predictions))\n",
    "k = 3\n",
    "clf = KNN(k=k)\n",
    "clf.fit(X_projected, train_labels)\n",
    "predictions = clf.predict(X_test_projected)\n",
    "print(\"KNN with LDA classification accuracy\", accuracy(test_labels, predictions))"
   ]
  },
  {
   "attachments": {},
   "cell_type": "markdown",
   "metadata": {},
   "source": [
    "Our baseline was 85% and 77.5% for Bayes and KNN, respectively, just by themselves. So as it can be seen above Bayes got up to 91.25% with PCA and LDA and KNN,k=4, had about 5% boost. Which is quite decent. Again the accuracy goes up and down a little based on the split shuffle but the general trend seems to be both Bayes and KNN get progressively better with just PCA and then with PCA and LDA. I also played with the nearest neighbors value and generally,throughout this whole experiment,k=4 seemed to give a good accuracy and k=3 in this particular experiment. \n",
    "Last note here, finding the right parameters was the most challenging part of this experiment. The coding part took relatively less time but fine tuning the parameters at times felt like an art I need to work at.    "
   ]
  }
 ],
 "metadata": {
  "interpreter": {
   "hash": "31f2aee4e71d21fbe5cf8b01ff0e069b9275f58929596ceb00d14d90e3e16cd6"
  },
  "kernelspec": {
   "display_name": "Python 3 (ipykernel)",
   "language": "python",
   "name": "python3"
  },
  "language_info": {
   "codemirror_mode": {
    "name": "ipython",
    "version": 3
   },
   "file_extension": ".py",
   "mimetype": "text/x-python",
   "name": "python",
   "nbconvert_exporter": "python",
   "pygments_lexer": "ipython3",
   "version": "3.8.10 (default, Mar 15 2022, 12:22:08) \n[GCC 9.4.0]"
  }
 },
 "nbformat": 4,
 "nbformat_minor": 2
}
