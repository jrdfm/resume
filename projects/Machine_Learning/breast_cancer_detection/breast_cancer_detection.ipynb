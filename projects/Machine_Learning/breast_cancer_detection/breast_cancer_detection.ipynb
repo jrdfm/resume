{
  "cells": [
    {
      "attachments": {},
      "cell_type": "markdown",
      "metadata": {
        "id": "IxfXZTnzRnIo"
      },
      "source": [
        "# # Breast Cancer Detection on UCI ML Breast Cancer Wisconsin dataset"
      ]
    },
    {
      "attachments": {},
      "cell_type": "markdown",
      "metadata": {
        "id": "X_QdkGnbTn-h"
      },
      "source": [
        "### Introduction\n"
      ]
    },
    {
      "cell_type": "markdown",
      "metadata": {
        "id": "6RjajEPpT_yf"
      },
      "source": [
        "Breast cancer is the formation and reproduction of abnormal cells within breast tissue, causing the growth of tumors, benign or malignant, where the latter is where the abnormal cells start to infiltrate other parts of the body. As of today, it is the most common cancer in the world, with one in eight women in America having a history of breast cancer. In America alone, there are approximately 3.8 million women with a breast cancer diagnosis. Throughout the 20th and 21st century, the breast cancer death rate has decreased due to the myriad developments and improvements of modern medicine technology. Among these contributions, computer aided detection (CAD), which serves as a “second pair of eyes” for radiologists, have helped improve early detection of breast cancer, though there is only one federally approved CAD in the United States. A CAD utilizes machine learning algorithms to be able to spot patterns in breast tissue, a means to serve as a ‘double check’ for breast cancer detection.\n",
        "\n",
        "\n",
        "\n",
        " \n"
      ]
    },
    {
      "cell_type": "markdown",
      "metadata": {
        "id": "Ffj1RBA2VXWS"
      },
      "source": [
        "The purpose of this project is to explore the applications of machine learning through breast cancer detection, using the “UCI ML Breast Cancer Wisconsin” dataset, in order to obtain a glimpse of how various machine learning techniques used in class can also combat real-world issues.\n"
      ]
    },
    {
      "cell_type": "markdown",
      "metadata": {
        "id": "Sw3ybfSRVgdr"
      },
      "source": [
        "The “UCI ML Breast Cancer Wisconsin” dataset is a widely used and referenced dataset for machine learning applications.  Although the original dataset contains missing values and ten features, the built in version of the dataset in SKLearn has been refined so that there are no missing values as well as an expanded set of features. The data generally contains the computed scores for the main visual details of a fine needle aspirate of breast mass (perimeter, concavity, etc.). A fine needle aspirate is a biopsy method where a sample of cells is taken from an abnormal breast mass.\n"
      ]
    },
    {
      "cell_type": "code",
      "execution_count": null,
      "metadata": {
        "id": "aw-NN3idJOUp"
      },
      "outputs": [],
      "source": [
        "from sklearn import datasets\n",
        "import pandas as pd\n",
        "import numpy as np \n",
        "import matplotlib.pyplot as plt\n",
        "import seaborn as sns\n",
        "from sklearn.linear_model import LogisticRegression\n",
        "from sklearn.neighbors import KNeighborsClassifier\n",
        "from sklearn.svm import SVC\n",
        "from sklearn.tree import DecisionTreeClassifier\n",
        "from sklearn.ensemble import RandomForestClassifier\n",
        "from sklearn.preprocessing import StandardScaler\n",
        "from sklearn.naive_bayes import GaussianNB\n",
        "from sklearn.model_selection import train_test_split\n",
        "from sklearn.metrics import accuracy_score\n",
        "from sklearn.decomposition import PCA"
      ]
    },
    {
      "cell_type": "code",
      "execution_count": null,
      "metadata": {
        "id": "_Ly0gyZc9iM7"
      },
      "outputs": [],
      "source": [
        "%%capture\n",
        "!pip install matplotlib --upgrade"
      ]
    },
    {
      "cell_type": "code",
      "execution_count": null,
      "metadata": {
        "colab": {
          "base_uri": "https://localhost:8080/"
        },
        "id": "MI0zJnnmJOUt",
        "outputId": "d45547c9-cc59-4bfa-f776-438d4e2174ad"
      },
      "outputs": [
        {
          "name": "stdout",
          "output_type": "stream",
          "text": [
            "X shape (569, 30) y shape (569,)\n"
          ]
        }
      ],
      "source": [
        "X, y = datasets.load_breast_cancer(return_X_y= True) \n",
        "print(f'X shape {X.shape} y shape {y.shape}')"
      ]
    },
    {
      "cell_type": "code",
      "execution_count": null,
      "metadata": {
        "id": "bjzCXYomJOUu"
      },
      "outputs": [],
      "source": [
        "data = datasets.load_breast_cancer() \n",
        "X, y = data.data, data.target\n",
        "df_X = pd.DataFrame(X, columns=data.feature_names) \n",
        "df_y = pd.DataFrame(y, columns = ['diagnosis'])"
      ]
    },
    {
      "cell_type": "code",
      "execution_count": null,
      "metadata": {
        "colab": {
          "base_uri": "https://localhost:8080/",
          "height": 334
        },
        "id": "NrJXHZy6JOUv",
        "outputId": "29d7a54f-8fef-4260-a348-b5e4e643cea0"
      },
      "outputs": [
        {
          "data": {
            "text/html": [
              "\n",
              "  <div id=\"df-943fb192-9e43-4e59-bc45-6d20f564ddcd\">\n",
              "    <div class=\"colab-df-container\">\n",
              "      <div>\n",
              "<style scoped>\n",
              "    .dataframe tbody tr th:only-of-type {\n",
              "        vertical-align: middle;\n",
              "    }\n",
              "\n",
              "    .dataframe tbody tr th {\n",
              "        vertical-align: top;\n",
              "    }\n",
              "\n",
              "    .dataframe thead th {\n",
              "        text-align: right;\n",
              "    }\n",
              "</style>\n",
              "<table border=\"1\" class=\"dataframe\">\n",
              "  <thead>\n",
              "    <tr style=\"text-align: right;\">\n",
              "      <th></th>\n",
              "      <th>mean radius</th>\n",
              "      <th>mean texture</th>\n",
              "      <th>mean perimeter</th>\n",
              "      <th>mean area</th>\n",
              "      <th>mean smoothness</th>\n",
              "      <th>mean compactness</th>\n",
              "      <th>mean concavity</th>\n",
              "      <th>mean concave points</th>\n",
              "      <th>mean symmetry</th>\n",
              "      <th>mean fractal dimension</th>\n",
              "      <th>...</th>\n",
              "      <th>worst radius</th>\n",
              "      <th>worst texture</th>\n",
              "      <th>worst perimeter</th>\n",
              "      <th>worst area</th>\n",
              "      <th>worst smoothness</th>\n",
              "      <th>worst compactness</th>\n",
              "      <th>worst concavity</th>\n",
              "      <th>worst concave points</th>\n",
              "      <th>worst symmetry</th>\n",
              "      <th>worst fractal dimension</th>\n",
              "    </tr>\n",
              "  </thead>\n",
              "  <tbody>\n",
              "    <tr>\n",
              "      <th>0</th>\n",
              "      <td>17.99</td>\n",
              "      <td>10.38</td>\n",
              "      <td>122.80</td>\n",
              "      <td>1001.0</td>\n",
              "      <td>0.11840</td>\n",
              "      <td>0.27760</td>\n",
              "      <td>0.3001</td>\n",
              "      <td>0.14710</td>\n",
              "      <td>0.2419</td>\n",
              "      <td>0.07871</td>\n",
              "      <td>...</td>\n",
              "      <td>25.38</td>\n",
              "      <td>17.33</td>\n",
              "      <td>184.60</td>\n",
              "      <td>2019.0</td>\n",
              "      <td>0.1622</td>\n",
              "      <td>0.6656</td>\n",
              "      <td>0.7119</td>\n",
              "      <td>0.2654</td>\n",
              "      <td>0.4601</td>\n",
              "      <td>0.11890</td>\n",
              "    </tr>\n",
              "    <tr>\n",
              "      <th>1</th>\n",
              "      <td>20.57</td>\n",
              "      <td>17.77</td>\n",
              "      <td>132.90</td>\n",
              "      <td>1326.0</td>\n",
              "      <td>0.08474</td>\n",
              "      <td>0.07864</td>\n",
              "      <td>0.0869</td>\n",
              "      <td>0.07017</td>\n",
              "      <td>0.1812</td>\n",
              "      <td>0.05667</td>\n",
              "      <td>...</td>\n",
              "      <td>24.99</td>\n",
              "      <td>23.41</td>\n",
              "      <td>158.80</td>\n",
              "      <td>1956.0</td>\n",
              "      <td>0.1238</td>\n",
              "      <td>0.1866</td>\n",
              "      <td>0.2416</td>\n",
              "      <td>0.1860</td>\n",
              "      <td>0.2750</td>\n",
              "      <td>0.08902</td>\n",
              "    </tr>\n",
              "    <tr>\n",
              "      <th>2</th>\n",
              "      <td>19.69</td>\n",
              "      <td>21.25</td>\n",
              "      <td>130.00</td>\n",
              "      <td>1203.0</td>\n",
              "      <td>0.10960</td>\n",
              "      <td>0.15990</td>\n",
              "      <td>0.1974</td>\n",
              "      <td>0.12790</td>\n",
              "      <td>0.2069</td>\n",
              "      <td>0.05999</td>\n",
              "      <td>...</td>\n",
              "      <td>23.57</td>\n",
              "      <td>25.53</td>\n",
              "      <td>152.50</td>\n",
              "      <td>1709.0</td>\n",
              "      <td>0.1444</td>\n",
              "      <td>0.4245</td>\n",
              "      <td>0.4504</td>\n",
              "      <td>0.2430</td>\n",
              "      <td>0.3613</td>\n",
              "      <td>0.08758</td>\n",
              "    </tr>\n",
              "    <tr>\n",
              "      <th>3</th>\n",
              "      <td>11.42</td>\n",
              "      <td>20.38</td>\n",
              "      <td>77.58</td>\n",
              "      <td>386.1</td>\n",
              "      <td>0.14250</td>\n",
              "      <td>0.28390</td>\n",
              "      <td>0.2414</td>\n",
              "      <td>0.10520</td>\n",
              "      <td>0.2597</td>\n",
              "      <td>0.09744</td>\n",
              "      <td>...</td>\n",
              "      <td>14.91</td>\n",
              "      <td>26.50</td>\n",
              "      <td>98.87</td>\n",
              "      <td>567.7</td>\n",
              "      <td>0.2098</td>\n",
              "      <td>0.8663</td>\n",
              "      <td>0.6869</td>\n",
              "      <td>0.2575</td>\n",
              "      <td>0.6638</td>\n",
              "      <td>0.17300</td>\n",
              "    </tr>\n",
              "    <tr>\n",
              "      <th>4</th>\n",
              "      <td>20.29</td>\n",
              "      <td>14.34</td>\n",
              "      <td>135.10</td>\n",
              "      <td>1297.0</td>\n",
              "      <td>0.10030</td>\n",
              "      <td>0.13280</td>\n",
              "      <td>0.1980</td>\n",
              "      <td>0.10430</td>\n",
              "      <td>0.1809</td>\n",
              "      <td>0.05883</td>\n",
              "      <td>...</td>\n",
              "      <td>22.54</td>\n",
              "      <td>16.67</td>\n",
              "      <td>152.20</td>\n",
              "      <td>1575.0</td>\n",
              "      <td>0.1374</td>\n",
              "      <td>0.2050</td>\n",
              "      <td>0.4000</td>\n",
              "      <td>0.1625</td>\n",
              "      <td>0.2364</td>\n",
              "      <td>0.07678</td>\n",
              "    </tr>\n",
              "  </tbody>\n",
              "</table>\n",
              "<p>5 rows × 30 columns</p>\n",
              "</div>\n",
              "      <button class=\"colab-df-convert\" onclick=\"convertToInteractive('df-943fb192-9e43-4e59-bc45-6d20f564ddcd')\"\n",
              "              title=\"Convert this dataframe to an interactive table.\"\n",
              "              style=\"display:none;\">\n",
              "        \n",
              "  <svg xmlns=\"http://www.w3.org/2000/svg\" height=\"24px\"viewBox=\"0 0 24 24\"\n",
              "       width=\"24px\">\n",
              "    <path d=\"M0 0h24v24H0V0z\" fill=\"none\"/>\n",
              "    <path d=\"M18.56 5.44l.94 2.06.94-2.06 2.06-.94-2.06-.94-.94-2.06-.94 2.06-2.06.94zm-11 1L8.5 8.5l.94-2.06 2.06-.94-2.06-.94L8.5 2.5l-.94 2.06-2.06.94zm10 10l.94 2.06.94-2.06 2.06-.94-2.06-.94-.94-2.06-.94 2.06-2.06.94z\"/><path d=\"M17.41 7.96l-1.37-1.37c-.4-.4-.92-.59-1.43-.59-.52 0-1.04.2-1.43.59L10.3 9.45l-7.72 7.72c-.78.78-.78 2.05 0 2.83L4 21.41c.39.39.9.59 1.41.59.51 0 1.02-.2 1.41-.59l7.78-7.78 2.81-2.81c.8-.78.8-2.07 0-2.86zM5.41 20L4 18.59l7.72-7.72 1.47 1.35L5.41 20z\"/>\n",
              "  </svg>\n",
              "      </button>\n",
              "      \n",
              "  <style>\n",
              "    .colab-df-container {\n",
              "      display:flex;\n",
              "      flex-wrap:wrap;\n",
              "      gap: 12px;\n",
              "    }\n",
              "\n",
              "    .colab-df-convert {\n",
              "      background-color: #E8F0FE;\n",
              "      border: none;\n",
              "      border-radius: 50%;\n",
              "      cursor: pointer;\n",
              "      display: none;\n",
              "      fill: #1967D2;\n",
              "      height: 32px;\n",
              "      padding: 0 0 0 0;\n",
              "      width: 32px;\n",
              "    }\n",
              "\n",
              "    .colab-df-convert:hover {\n",
              "      background-color: #E2EBFA;\n",
              "      box-shadow: 0px 1px 2px rgba(60, 64, 67, 0.3), 0px 1px 3px 1px rgba(60, 64, 67, 0.15);\n",
              "      fill: #174EA6;\n",
              "    }\n",
              "\n",
              "    [theme=dark] .colab-df-convert {\n",
              "      background-color: #3B4455;\n",
              "      fill: #D2E3FC;\n",
              "    }\n",
              "\n",
              "    [theme=dark] .colab-df-convert:hover {\n",
              "      background-color: #434B5C;\n",
              "      box-shadow: 0px 1px 3px 1px rgba(0, 0, 0, 0.15);\n",
              "      filter: drop-shadow(0px 1px 2px rgba(0, 0, 0, 0.3));\n",
              "      fill: #FFFFFF;\n",
              "    }\n",
              "  </style>\n",
              "\n",
              "      <script>\n",
              "        const buttonEl =\n",
              "          document.querySelector('#df-943fb192-9e43-4e59-bc45-6d20f564ddcd button.colab-df-convert');\n",
              "        buttonEl.style.display =\n",
              "          google.colab.kernel.accessAllowed ? 'block' : 'none';\n",
              "\n",
              "        async function convertToInteractive(key) {\n",
              "          const element = document.querySelector('#df-943fb192-9e43-4e59-bc45-6d20f564ddcd');\n",
              "          const dataTable =\n",
              "            await google.colab.kernel.invokeFunction('convertToInteractive',\n",
              "                                                     [key], {});\n",
              "          if (!dataTable) return;\n",
              "\n",
              "          const docLinkHtml = 'Like what you see? Visit the ' +\n",
              "            '<a target=\"_blank\" href=https://colab.research.google.com/notebooks/data_table.ipynb>data table notebook</a>'\n",
              "            + ' to learn more about interactive tables.';\n",
              "          element.innerHTML = '';\n",
              "          dataTable['output_type'] = 'display_data';\n",
              "          await google.colab.output.renderOutput(dataTable, element);\n",
              "          const docLink = document.createElement('div');\n",
              "          docLink.innerHTML = docLinkHtml;\n",
              "          element.appendChild(docLink);\n",
              "        }\n",
              "      </script>\n",
              "    </div>\n",
              "  </div>\n",
              "  "
            ],
            "text/plain": [
              "   mean radius  mean texture  mean perimeter  mean area  mean smoothness  \\\n",
              "0        17.99         10.38          122.80     1001.0          0.11840   \n",
              "1        20.57         17.77          132.90     1326.0          0.08474   \n",
              "2        19.69         21.25          130.00     1203.0          0.10960   \n",
              "3        11.42         20.38           77.58      386.1          0.14250   \n",
              "4        20.29         14.34          135.10     1297.0          0.10030   \n",
              "\n",
              "   mean compactness  mean concavity  mean concave points  mean symmetry  \\\n",
              "0           0.27760          0.3001              0.14710         0.2419   \n",
              "1           0.07864          0.0869              0.07017         0.1812   \n",
              "2           0.15990          0.1974              0.12790         0.2069   \n",
              "3           0.28390          0.2414              0.10520         0.2597   \n",
              "4           0.13280          0.1980              0.10430         0.1809   \n",
              "\n",
              "   mean fractal dimension  ...  worst radius  worst texture  worst perimeter  \\\n",
              "0                 0.07871  ...         25.38          17.33           184.60   \n",
              "1                 0.05667  ...         24.99          23.41           158.80   \n",
              "2                 0.05999  ...         23.57          25.53           152.50   \n",
              "3                 0.09744  ...         14.91          26.50            98.87   \n",
              "4                 0.05883  ...         22.54          16.67           152.20   \n",
              "\n",
              "   worst area  worst smoothness  worst compactness  worst concavity  \\\n",
              "0      2019.0            0.1622             0.6656           0.7119   \n",
              "1      1956.0            0.1238             0.1866           0.2416   \n",
              "2      1709.0            0.1444             0.4245           0.4504   \n",
              "3       567.7            0.2098             0.8663           0.6869   \n",
              "4      1575.0            0.1374             0.2050           0.4000   \n",
              "\n",
              "   worst concave points  worst symmetry  worst fractal dimension  \n",
              "0                0.2654          0.4601                  0.11890  \n",
              "1                0.1860          0.2750                  0.08902  \n",
              "2                0.2430          0.3613                  0.08758  \n",
              "3                0.2575          0.6638                  0.17300  \n",
              "4                0.1625          0.2364                  0.07678  \n",
              "\n",
              "[5 rows x 30 columns]"
            ]
          },
          "execution_count": 5,
          "metadata": {},
          "output_type": "execute_result"
        }
      ],
      "source": [
        "df_X.head()"
      ]
    },
    {
      "cell_type": "markdown",
      "metadata": {
        "id": "9Fq2B2U5Voyh"
      },
      "source": [
        "There are 569 samples, with 212 malignant classes and 357 benign classes, and 30 features in the SKLearn version of the dataset. The ten main visual characteristics of the images were expanded to 30 to contain the mean, std. error, and worst values for each of the 10 descriptors."
      ]
    },
    {
      "cell_type": "markdown",
      "metadata": {
        "id": "8WDM-NnlVx5i"
      },
      "source": [
        "### Decision Trees"
      ]
    },
    {
      "cell_type": "markdown",
      "metadata": {
        "id": "IzwAy0PpV6kC"
      },
      "source": [
        "When looking at the dataset one of the first Machine Learning methods we thought to do was a decision tree.Since the data was made up of integers it would be easy for the tree to find a number to split on. We also wanted to do the decision tree because it would be the easiest for someone who is unaware of how Machine Learning algorithm works to understand the logic because it shows an easy to follow visual logic path to show how it got its classification."
      ]
    },
    {
      "cell_type": "markdown",
      "metadata": {
        "id": "Q174xXlfWWKP"
      },
      "source": [
        "Our initial decision tree we set to have a max depth of 10 because we wanted to make sure  all of the 10 features would get used when making the decision tree. When testing the accuracy of the tree it had an training accuracy of 100 percent accuracy and a test accuracy a little under 93 percent. We then wanted to see how the tree preformed when transforming the data with PCA, so once we transformed the data and ran the data it had a significant drop in test accuracy with 88 percent.\n"
      ]
    },
    {
      "cell_type": "markdown",
      "metadata": {
        "id": "KkMZucyhWk06"
      },
      "source": [
        "Noticing that the training accuracy was 100 percent, this shows that we overfit the data. So in order to reduce the overfitting we have to reduce the max depth. So after running some code we found the best depth for non-PCA was 2 and 6 with about 95% and for PCA was 5 with 90 percent. After we formed a tree using the depth of 2 and got this:\n",
        "\n"
      ]
    },
    {
      "cell_type": "code",
      "execution_count": null,
      "metadata": {
        "colab": {
          "base_uri": "https://localhost:8080/",
          "height": 440
        },
        "id": "vKtKQqxQnpTe",
        "outputId": "3def4ce4-1f08-443d-9df1-485058d05cec"
      },
      "outputs": [
        {
          "data": {
            "image/svg+xml": "<?xml version=\"1.0\" encoding=\"UTF-8\" standalone=\"no\"?>\n<!DOCTYPE svg PUBLIC \"-//W3C//DTD SVG 1.1//EN\"\n \"http://www.w3.org/Graphics/SVG/1.1/DTD/svg11.dtd\">\n<!-- Generated by graphviz version 2.40.1 (20161225.0304)\n -->\n<!-- Title: Tree Pages: 1 -->\n<svg width=\"582pt\" height=\"314pt\"\n viewBox=\"0.00 0.00 581.50 314.00\" xmlns=\"http://www.w3.org/2000/svg\" xmlns:xlink=\"http://www.w3.org/1999/xlink\">\n<g id=\"graph0\" class=\"graph\" transform=\"scale(1 1) rotate(0) translate(4 310)\">\n<title>Tree</title>\n<polygon fill=\"#ffffff\" stroke=\"transparent\" points=\"-4,4 -4,-310 577.5,-310 577.5,4 -4,4\"/>\n<!-- 0 -->\n<g id=\"node1\" class=\"node\">\n<title>0</title>\n<polygon fill=\"#afd7f4\" stroke=\"#000000\" points=\"367,-306 203,-306 203,-223 367,-223 367,-306\"/>\n<text text-anchor=\"middle\" x=\"285\" y=\"-290.8\" font-family=\"Helvetica,sans-Serif\" font-size=\"14.00\" fill=\"#000000\">worst radius &lt;= 16.795</text>\n<text text-anchor=\"middle\" x=\"285\" y=\"-275.8\" font-family=\"Helvetica,sans-Serif\" font-size=\"14.00\" fill=\"#000000\">gini = 0.468</text>\n<text text-anchor=\"middle\" x=\"285\" y=\"-260.8\" font-family=\"Helvetica,sans-Serif\" font-size=\"14.00\" fill=\"#000000\">samples = 569</text>\n<text text-anchor=\"middle\" x=\"285\" y=\"-245.8\" font-family=\"Helvetica,sans-Serif\" font-size=\"14.00\" fill=\"#000000\">value = [212, 357]</text>\n<text text-anchor=\"middle\" x=\"285\" y=\"-230.8\" font-family=\"Helvetica,sans-Serif\" font-size=\"14.00\" fill=\"#000000\">class = benign</text>\n</g>\n<!-- 1 -->\n<g id=\"node2\" class=\"node\">\n<title>1</title>\n<polygon fill=\"#4ca6e7\" stroke=\"#000000\" points=\"289,-187 75,-187 75,-104 289,-104 289,-187\"/>\n<text text-anchor=\"middle\" x=\"182\" y=\"-171.8\" font-family=\"Helvetica,sans-Serif\" font-size=\"14.00\" fill=\"#000000\">worst concave points &lt;= 0.136</text>\n<text text-anchor=\"middle\" x=\"182\" y=\"-156.8\" font-family=\"Helvetica,sans-Serif\" font-size=\"14.00\" fill=\"#000000\">gini = 0.159</text>\n<text text-anchor=\"middle\" x=\"182\" y=\"-141.8\" font-family=\"Helvetica,sans-Serif\" font-size=\"14.00\" fill=\"#000000\">samples = 379</text>\n<text text-anchor=\"middle\" x=\"182\" y=\"-126.8\" font-family=\"Helvetica,sans-Serif\" font-size=\"14.00\" fill=\"#000000\">value = [33, 346]</text>\n<text text-anchor=\"middle\" x=\"182\" y=\"-111.8\" font-family=\"Helvetica,sans-Serif\" font-size=\"14.00\" fill=\"#000000\">class = benign</text>\n</g>\n<!-- 0&#45;&gt;1 -->\n<g id=\"edge1\" class=\"edge\">\n<title>0&#45;&gt;1</title>\n<path fill=\"none\" stroke=\"#000000\" d=\"M248.9756,-222.8796C241.1802,-213.8733 232.8633,-204.2644 224.8356,-194.9897\"/>\n<polygon fill=\"#000000\" stroke=\"#000000\" points=\"227.3691,-192.5686 218.1782,-187.2981 222.0763,-197.1498 227.3691,-192.5686\"/>\n<text text-anchor=\"middle\" x=\"216.381\" y=\"-208.5334\" font-family=\"Helvetica,sans-Serif\" font-size=\"14.00\" fill=\"#000000\">True</text>\n</g>\n<!-- 4 -->\n<g id=\"node5\" class=\"node\">\n<title>4</title>\n<polygon fill=\"#e78945\" stroke=\"#000000\" points=\"469,-187 307,-187 307,-104 469,-104 469,-187\"/>\n<text text-anchor=\"middle\" x=\"388\" y=\"-171.8\" font-family=\"Helvetica,sans-Serif\" font-size=\"14.00\" fill=\"#000000\">mean texture &lt;= 16.11</text>\n<text text-anchor=\"middle\" x=\"388\" y=\"-156.8\" font-family=\"Helvetica,sans-Serif\" font-size=\"14.00\" fill=\"#000000\">gini = 0.109</text>\n<text text-anchor=\"middle\" x=\"388\" y=\"-141.8\" font-family=\"Helvetica,sans-Serif\" font-size=\"14.00\" fill=\"#000000\">samples = 190</text>\n<text text-anchor=\"middle\" x=\"388\" y=\"-126.8\" font-family=\"Helvetica,sans-Serif\" font-size=\"14.00\" fill=\"#000000\">value = [179, 11]</text>\n<text text-anchor=\"middle\" x=\"388\" y=\"-111.8\" font-family=\"Helvetica,sans-Serif\" font-size=\"14.00\" fill=\"#000000\">class = malignant</text>\n</g>\n<!-- 0&#45;&gt;4 -->\n<g id=\"edge4\" class=\"edge\">\n<title>0&#45;&gt;4</title>\n<path fill=\"none\" stroke=\"#000000\" d=\"M321.0244,-222.8796C328.8198,-213.8733 337.1367,-204.2644 345.1644,-194.9897\"/>\n<polygon fill=\"#000000\" stroke=\"#000000\" points=\"347.9237,-197.1498 351.8218,-187.2981 342.6309,-192.5686 347.9237,-197.1498\"/>\n<text text-anchor=\"middle\" x=\"353.619\" y=\"-208.5334\" font-family=\"Helvetica,sans-Serif\" font-size=\"14.00\" fill=\"#000000\">False</text>\n</g>\n<!-- 2 -->\n<g id=\"node3\" class=\"node\">\n<title>2</title>\n<polygon fill=\"#3c9ee5\" stroke=\"#000000\" points=\"116,-68 0,-68 0,0 116,0 116,-68\"/>\n<text text-anchor=\"middle\" x=\"58\" y=\"-52.8\" font-family=\"Helvetica,sans-Serif\" font-size=\"14.00\" fill=\"#000000\">gini = 0.03</text>\n<text text-anchor=\"middle\" x=\"58\" y=\"-37.8\" font-family=\"Helvetica,sans-Serif\" font-size=\"14.00\" fill=\"#000000\">samples = 333</text>\n<text text-anchor=\"middle\" x=\"58\" y=\"-22.8\" font-family=\"Helvetica,sans-Serif\" font-size=\"14.00\" fill=\"#000000\">value = [5, 328]</text>\n<text text-anchor=\"middle\" x=\"58\" y=\"-7.8\" font-family=\"Helvetica,sans-Serif\" font-size=\"14.00\" fill=\"#000000\">class = benign</text>\n</g>\n<!-- 1&#45;&gt;2 -->\n<g id=\"edge2\" class=\"edge\">\n<title>1&#45;&gt;2</title>\n<path fill=\"none\" stroke=\"#000000\" d=\"M135.827,-103.9815C125.2993,-94.5151 114.1192,-84.462 103.6151,-75.0168\"/>\n<polygon fill=\"#000000\" stroke=\"#000000\" points=\"105.8811,-72.3475 96.1049,-68.2637 101.2006,-77.5526 105.8811,-72.3475\"/>\n</g>\n<!-- 3 -->\n<g id=\"node4\" class=\"node\">\n<title>3</title>\n<polygon fill=\"#f6d2b8\" stroke=\"#000000\" points=\"263.5,-68 134.5,-68 134.5,0 263.5,0 263.5,-68\"/>\n<text text-anchor=\"middle\" x=\"199\" y=\"-52.8\" font-family=\"Helvetica,sans-Serif\" font-size=\"14.00\" fill=\"#000000\">gini = 0.476</text>\n<text text-anchor=\"middle\" x=\"199\" y=\"-37.8\" font-family=\"Helvetica,sans-Serif\" font-size=\"14.00\" fill=\"#000000\">samples = 46</text>\n<text text-anchor=\"middle\" x=\"199\" y=\"-22.8\" font-family=\"Helvetica,sans-Serif\" font-size=\"14.00\" fill=\"#000000\">value = [28, 18]</text>\n<text text-anchor=\"middle\" x=\"199\" y=\"-7.8\" font-family=\"Helvetica,sans-Serif\" font-size=\"14.00\" fill=\"#000000\">class = malignant</text>\n</g>\n<!-- 1&#45;&gt;3 -->\n<g id=\"edge3\" class=\"edge\">\n<title>1&#45;&gt;3</title>\n<path fill=\"none\" stroke=\"#000000\" d=\"M188.3302,-103.9815C189.6053,-95.618 190.9503,-86.7965 192.2395,-78.3409\"/>\n<polygon fill=\"#000000\" stroke=\"#000000\" points=\"195.7286,-78.677 193.7759,-68.2637 188.8086,-77.6219 195.7286,-78.677\"/>\n</g>\n<!-- 5 -->\n<g id=\"node6\" class=\"node\">\n<title>5</title>\n<polygon fill=\"#e9f4fc\" stroke=\"#000000\" points=\"426,-68 316,-68 316,0 426,0 426,-68\"/>\n<text text-anchor=\"middle\" x=\"371\" y=\"-52.8\" font-family=\"Helvetica,sans-Serif\" font-size=\"14.00\" fill=\"#000000\">gini = 0.498</text>\n<text text-anchor=\"middle\" x=\"371\" y=\"-37.8\" font-family=\"Helvetica,sans-Serif\" font-size=\"14.00\" fill=\"#000000\">samples = 17</text>\n<text text-anchor=\"middle\" x=\"371\" y=\"-22.8\" font-family=\"Helvetica,sans-Serif\" font-size=\"14.00\" fill=\"#000000\">value = [8, 9]</text>\n<text text-anchor=\"middle\" x=\"371\" y=\"-7.8\" font-family=\"Helvetica,sans-Serif\" font-size=\"14.00\" fill=\"#000000\">class = benign</text>\n</g>\n<!-- 4&#45;&gt;5 -->\n<g id=\"edge5\" class=\"edge\">\n<title>4&#45;&gt;5</title>\n<path fill=\"none\" stroke=\"#000000\" d=\"M381.6698,-103.9815C380.3947,-95.618 379.0497,-86.7965 377.7605,-78.3409\"/>\n<polygon fill=\"#000000\" stroke=\"#000000\" points=\"381.1914,-77.6219 376.2241,-68.2637 374.2714,-78.677 381.1914,-77.6219\"/>\n</g>\n<!-- 6 -->\n<g id=\"node7\" class=\"node\">\n<title>6</title>\n<polygon fill=\"#e5823b\" stroke=\"#000000\" points=\"573.5,-68 444.5,-68 444.5,0 573.5,0 573.5,-68\"/>\n<text text-anchor=\"middle\" x=\"509\" y=\"-52.8\" font-family=\"Helvetica,sans-Serif\" font-size=\"14.00\" fill=\"#000000\">gini = 0.023</text>\n<text text-anchor=\"middle\" x=\"509\" y=\"-37.8\" font-family=\"Helvetica,sans-Serif\" font-size=\"14.00\" fill=\"#000000\">samples = 173</text>\n<text text-anchor=\"middle\" x=\"509\" y=\"-22.8\" font-family=\"Helvetica,sans-Serif\" font-size=\"14.00\" fill=\"#000000\">value = [171, 2]</text>\n<text text-anchor=\"middle\" x=\"509\" y=\"-7.8\" font-family=\"Helvetica,sans-Serif\" font-size=\"14.00\" fill=\"#000000\">class = malignant</text>\n</g>\n<!-- 4&#45;&gt;6 -->\n<g id=\"edge6\" class=\"edge\">\n<title>4&#45;&gt;6</title>\n<path fill=\"none\" stroke=\"#000000\" d=\"M433.0559,-103.9815C443.2291,-94.607 454.0267,-84.6572 464.1898,-75.2921\"/>\n<polygon fill=\"#000000\" stroke=\"#000000\" points=\"466.8349,-77.6141 471.817,-68.2637 462.0913,-72.4663 466.8349,-77.6141\"/>\n</g>\n</g>\n</svg>\n",
            "text/plain": [
              "<graphviz.files.Source at 0x7f0ee5388370>"
            ]
          },
          "execution_count": 6,
          "metadata": {},
          "output_type": "execute_result"
        }
      ],
      "source": [
        "#adjusting tree with best max_depth(2)\n",
        "import graphviz\n",
        "from sklearn import tree\n",
        "clf = tree.DecisionTreeClassifier(max_depth= 2,random_state=42)\n",
        "clf = clf.fit(data.data, data.target)\n",
        "# DOT data\n",
        "dot_data = tree.export_graphviz(clf, out_file=None, \n",
        "                                feature_names=data.feature_names,  \n",
        "                                class_names=data.target_names,\n",
        "                                filled=True)\n",
        "\n",
        "# Draw graph\n",
        "graph = graphviz.Source(dot_data, format=\"png\") \n",
        "graph"
      ]
    },
    {
      "cell_type": "markdown",
      "metadata": {
        "id": "0KdlmurlYU46"
      },
      "source": [
        "From this tree we notice that the three most important features are the worst radius, mean texture and worst concave points. We can see that most of the data falls into the outer two leaves. Both of these leaves have a low gini, which means most of the samples  that are in this leaf are correctly classified. While the two inner leaves have a high gini the sample size of both are small so it doesn't have as much weight as the other two leaves.\n"
      ]
    },
    {
      "cell_type": "markdown",
      "metadata": {
        "id": "hDZnblT_YYuq"
      },
      "source": [
        "### Important Features and Breast Cancer Detection Practices"
      ]
    },
    {
      "cell_type": "markdown",
      "metadata": {
        "id": "b09F5zKNaWGS"
      },
      "source": [
        "Computing a feature importance table can give us insight on what our machine learning algorithm is referencing the most in determining whether a sample is benign or malignant. Shown below, a feature importance barplot for a non-PCA Decision Tree algorithm with max depth 10:\n"
      ]
    },
    {
      "cell_type": "code",
      "execution_count": null,
      "metadata": {
        "colab": {
          "base_uri": "https://localhost:8080/",
          "height": 206
        },
        "id": "-ldN2nSYai50",
        "outputId": "d381ce48-7e43-431a-9e57-4af5bc3ab065"
      },
      "outputs": [
        {
          "data": {
            "text/html": [
              "\n",
              "  <div id=\"df-0e6e8615-fbd8-48b6-b853-8f62dfbff620\">\n",
              "    <div class=\"colab-df-container\">\n",
              "      <div>\n",
              "<style scoped>\n",
              "    .dataframe tbody tr th:only-of-type {\n",
              "        vertical-align: middle;\n",
              "    }\n",
              "\n",
              "    .dataframe tbody tr th {\n",
              "        vertical-align: top;\n",
              "    }\n",
              "\n",
              "    .dataframe thead th {\n",
              "        text-align: right;\n",
              "    }\n",
              "</style>\n",
              "<table border=\"1\" class=\"dataframe\">\n",
              "  <thead>\n",
              "    <tr style=\"text-align: right;\">\n",
              "      <th></th>\n",
              "      <th>Feature</th>\n",
              "      <th>Importance</th>\n",
              "    </tr>\n",
              "  </thead>\n",
              "  <tbody>\n",
              "    <tr>\n",
              "      <th>0</th>\n",
              "      <td>worst concave points</td>\n",
              "      <td>0.728114</td>\n",
              "    </tr>\n",
              "    <tr>\n",
              "      <th>1</th>\n",
              "      <td>worst area</td>\n",
              "      <td>0.096315</td>\n",
              "    </tr>\n",
              "    <tr>\n",
              "      <th>2</th>\n",
              "      <td>area error</td>\n",
              "      <td>0.047493</td>\n",
              "    </tr>\n",
              "    <tr>\n",
              "      <th>3</th>\n",
              "      <td>worst concavity</td>\n",
              "      <td>0.026164</td>\n",
              "    </tr>\n",
              "    <tr>\n",
              "      <th>4</th>\n",
              "      <td>worst texture</td>\n",
              "      <td>0.019873</td>\n",
              "    </tr>\n",
              "  </tbody>\n",
              "</table>\n",
              "</div>\n",
              "      <button class=\"colab-df-convert\" onclick=\"convertToInteractive('df-0e6e8615-fbd8-48b6-b853-8f62dfbff620')\"\n",
              "              title=\"Convert this dataframe to an interactive table.\"\n",
              "              style=\"display:none;\">\n",
              "        \n",
              "  <svg xmlns=\"http://www.w3.org/2000/svg\" height=\"24px\"viewBox=\"0 0 24 24\"\n",
              "       width=\"24px\">\n",
              "    <path d=\"M0 0h24v24H0V0z\" fill=\"none\"/>\n",
              "    <path d=\"M18.56 5.44l.94 2.06.94-2.06 2.06-.94-2.06-.94-.94-2.06-.94 2.06-2.06.94zm-11 1L8.5 8.5l.94-2.06 2.06-.94-2.06-.94L8.5 2.5l-.94 2.06-2.06.94zm10 10l.94 2.06.94-2.06 2.06-.94-2.06-.94-.94-2.06-.94 2.06-2.06.94z\"/><path d=\"M17.41 7.96l-1.37-1.37c-.4-.4-.92-.59-1.43-.59-.52 0-1.04.2-1.43.59L10.3 9.45l-7.72 7.72c-.78.78-.78 2.05 0 2.83L4 21.41c.39.39.9.59 1.41.59.51 0 1.02-.2 1.41-.59l7.78-7.78 2.81-2.81c.8-.78.8-2.07 0-2.86zM5.41 20L4 18.59l7.72-7.72 1.47 1.35L5.41 20z\"/>\n",
              "  </svg>\n",
              "      </button>\n",
              "      \n",
              "  <style>\n",
              "    .colab-df-container {\n",
              "      display:flex;\n",
              "      flex-wrap:wrap;\n",
              "      gap: 12px;\n",
              "    }\n",
              "\n",
              "    .colab-df-convert {\n",
              "      background-color: #E8F0FE;\n",
              "      border: none;\n",
              "      border-radius: 50%;\n",
              "      cursor: pointer;\n",
              "      display: none;\n",
              "      fill: #1967D2;\n",
              "      height: 32px;\n",
              "      padding: 0 0 0 0;\n",
              "      width: 32px;\n",
              "    }\n",
              "\n",
              "    .colab-df-convert:hover {\n",
              "      background-color: #E2EBFA;\n",
              "      box-shadow: 0px 1px 2px rgba(60, 64, 67, 0.3), 0px 1px 3px 1px rgba(60, 64, 67, 0.15);\n",
              "      fill: #174EA6;\n",
              "    }\n",
              "\n",
              "    [theme=dark] .colab-df-convert {\n",
              "      background-color: #3B4455;\n",
              "      fill: #D2E3FC;\n",
              "    }\n",
              "\n",
              "    [theme=dark] .colab-df-convert:hover {\n",
              "      background-color: #434B5C;\n",
              "      box-shadow: 0px 1px 3px 1px rgba(0, 0, 0, 0.15);\n",
              "      filter: drop-shadow(0px 1px 2px rgba(0, 0, 0, 0.3));\n",
              "      fill: #FFFFFF;\n",
              "    }\n",
              "  </style>\n",
              "\n",
              "      <script>\n",
              "        const buttonEl =\n",
              "          document.querySelector('#df-0e6e8615-fbd8-48b6-b853-8f62dfbff620 button.colab-df-convert');\n",
              "        buttonEl.style.display =\n",
              "          google.colab.kernel.accessAllowed ? 'block' : 'none';\n",
              "\n",
              "        async function convertToInteractive(key) {\n",
              "          const element = document.querySelector('#df-0e6e8615-fbd8-48b6-b853-8f62dfbff620');\n",
              "          const dataTable =\n",
              "            await google.colab.kernel.invokeFunction('convertToInteractive',\n",
              "                                                     [key], {});\n",
              "          if (!dataTable) return;\n",
              "\n",
              "          const docLinkHtml = 'Like what you see? Visit the ' +\n",
              "            '<a target=\"_blank\" href=https://colab.research.google.com/notebooks/data_table.ipynb>data table notebook</a>'\n",
              "            + ' to learn more about interactive tables.';\n",
              "          element.innerHTML = '';\n",
              "          dataTable['output_type'] = 'display_data';\n",
              "          await google.colab.output.renderOutput(dataTable, element);\n",
              "          const docLink = document.createElement('div');\n",
              "          docLink.innerHTML = docLinkHtml;\n",
              "          element.appendChild(docLink);\n",
              "        }\n",
              "      </script>\n",
              "    </div>\n",
              "  </div>\n",
              "  "
            ],
            "text/plain": [
              "                Feature  Importance\n",
              "0  worst concave points    0.728114\n",
              "1            worst area    0.096315\n",
              "2            area error    0.047493\n",
              "3       worst concavity    0.026164\n",
              "4         worst texture    0.019873"
            ]
          },
          "execution_count": 7,
          "metadata": {},
          "output_type": "execute_result"
        }
      ],
      "source": [
        "from sklearn.tree import DecisionTreeClassifier\n",
        "from sklearn.model_selection import train_test_split\n",
        "from sklearn.metrics import accuracy_score\n",
        "\n",
        "data = datasets.load_breast_cancer() \n",
        "X, y = data.data, data.target\n",
        "df_X = pd.DataFrame(X, columns=data.feature_names) \n",
        "df_y = pd.DataFrame(y, columns = ['diagnosis'])\n",
        "\n",
        "X_train, X_test, y_train, y_test = train_test_split(X, y, test_size = 0.3, random_state = 0)\n",
        "\n",
        "model = DecisionTreeClassifier(max_depth= 10,random_state=42)\n",
        "model.fit(X_train, y_train)\n",
        "train_acc = model.score(X_train, y_train)\n",
        "test_acc = accuracy_score(y_test, model.predict(X_test))\n",
        "df_ = pd.DataFrame([[model.__class__.__name__, train_acc, test_acc]],columns= [ \"model\", \"Training Accuracy\", \"Test Accuracy\"])\n",
        "\n",
        "\n",
        "featDict = {}\n",
        "for col, val in sorted(zip(df_X.columns, model.feature_importances_),key=lambda x:x[1],reverse=True):\n",
        "  featDict[col]=val\n",
        "featDf = pd.DataFrame({'Feature':featDict.keys(),'Importance':featDict.values()})\n",
        "featDf.head()"
      ]
    },
    {
      "cell_type": "code",
      "execution_count": null,
      "metadata": {
        "colab": {
          "base_uri": "https://localhost:8080/",
          "height": 513
        },
        "id": "wlHXzz16bHMz",
        "outputId": "94b09d52-2a45-44e6-a4f0-a9529fd17e30"
      },
      "outputs": [
        {
          "data": {
            "image/png": "[encoded data removed]",
            "text/plain": [
              "<Figure size 720x576 with 1 Axes>"
            ]
          },
          "metadata": {
            "needs_background": "light"
          },
          "output_type": "display_data"
        }
      ],
      "source": [
        "import seaborn as sns\n",
        "values = featDf.Importance    \n",
        "idx = featDf.Feature\n",
        "plt.figure(figsize=(10,8))\n",
        "clrs = ['orange' if (x < max(values)) else 'blue' for x in values ]\n",
        "sns.barplot(y=idx,x=values,palette=clrs).set(title='Important Features for Early Breast Cancer Detection')\n",
        "plt.show()"
      ]
    },
    {
      "cell_type": "markdown",
      "metadata": {
        "id": "4xczn7TwbSkj"
      },
      "source": [
        "From the plot. We can find that worst concave points, worst area, and area error are the three most important features for our Decision Tree algorithm, differing from the aforementioned most important features for the PCA Decision Tree. When considering what ‘important features’, or patterns of cancerous cells doctors and radiologists are looking for, they describe them as having an “abnormal” shape with varying sizes that differ from the size of a normal cell (American Cancer Society). This falls in line with the high importance score of worst concave points, as normal and benign cells would have a smaller value, or a less abnormal shape, than malignant cells. Because area error is measuring the difference in area from the mean, a higher error could be a big sign that the sample is malignant, since cancerous cells are “...either smaller or larger than normal cells”. From just a decision tree, we are able to find some insight into how Computer Aided Detection systems detect malignant patterns in cell samples, contributing as a “second pair of eyes” for doctors and radiologists.\n"
      ]
    },
    {
      "cell_type": "markdown",
      "metadata": {
        "id": "kFeeKziPbYCq"
      },
      "source": [
        "Changing the max depth of the decision tree does not change the order of feature importance in the plot, but instead obscures the scores for all features besides the max-depth important ones. For example, if our max depth was 10, then only the top 10 features would be plotted, as there can only be a limited number of splits so that not all features are able to be used.\n"
      ]
    },
    {
      "cell_type": "markdown",
      "metadata": {
        "id": "cWyYmhCU6iUr"
      },
      "source": [
        "### Neural Network Architecture\n",
        "\n",
        "The neural network takes in all the 30 features as an input to the first layer and outputs 20 which go through a ReLU activation function and batch normalization layer that rescales and centers the output to make it more stable. The first hidden layer takes the 20 features and outputs 15 followed by a ReLU and batch normalization layer again. We then used a dropout layer which randomly zeros out 10% of the neurons to prevent the model from overfitting. The last layer takes in 15 components and outputs a single feature which goes through a sigmoid activation function. \n",
        "\n",
        "We used Adam optimizer with learning rate of 0.001 and the default values for the other hyperparameters, and BCE loss function with the equation below.  \n",
        "\n",
        "   BCE Loss = -${\\dfrac{1}{N}\\cdot\\sum_{i=1}^{N}(y_i\\log(\\hat{y_i})) + (1 - y_i)\\log(1 - \\hat{y_i}))}$\n",
        "\n",
        "#### Adam optimizer\n",
        "Adam update keeps exponentially decaying average of past squared gradients, $v_t$ , and past gradients $m_t$. At every epoch $t$ we compute $m_t$ & $v_t$ as follows,\n",
        "\n",
        "$m_t = \\beta_1 m_{t-1} + (1 \\ - \\ \\beta_1) g_t $\n",
        "\n",
        "$v_t = \\beta_2 v_{t-1} + (1 \\ - \\ \\beta_2) g_t^2 $\n",
        "\n",
        "Where $m_t$ & $v_t$ are the average first and second moments and $\\beta_1$ & $\\beta_2$ are hyperparameters usually set to 0.9 and 0.999, and $ g_t $ is the current gradient.\n",
        "We than bias correct the first and second moments by the equations,\n",
        "\n",
        "$\\hat{m}_t = \\dfrac{m_t}{\\ 1 - \\ \\beta^t_1}$\n",
        "\n",
        "$\\hat{v}_t = \\dfrac{v_t}{\\ 1 - \\ \\beta^t_2}$  and use these to update our parameters, weights and biases, in the current epoch $\\theta_{t+1}$, as follows\n",
        "\n",
        "$\\theta_{t+1} = \\theta_{t} - \\dfrac{\\eta}{\\sqrt{\\hat{v}_t} + \\epsilon} \\hat{m}_t$,  where $\\eta$ is the learning rate and $\\theta_{t}$ is the parameter from the previous epoch.\n",
        "\n",
        "\n",
        "\n",
        "#### Batch normalization\n",
        "\n",
        "[Batch normalization](http://arxiv.org/abs/1502.03167) helps reduce sensitivity to bad initialization of weights by explicitly forcing activations throughout the network to take on a unit gaussian distribution at the start of the training. It is used right after the layer output and before applying the activation function which helps with the \"Dying ReLU\" problem, always outputting a 0. Batch normalization can also be interpreted as preprocessing the data at every layer.    \n",
        "\n",
        "$\\mu = \\frac{1}{m} \\sum_{i=1}^{m} \\textbf{x}^{(i)}$\n",
        "\n",
        "$ \\sigma^2 = \\frac{1}{m} \\sum_{i=1}^{m} (\\textbf{x}^{(i)} – \\mu)^2$\n",
        "\n",
        "$ \\textbf{x}^{(i)}_{new} = \\frac{\\textbf{x}^{(i)} – \\mu}{\\sqrt{\\sigma^2 + \\epsilon}}$\n",
        "\n",
        "$ \\textbf{z}^{(i)} = \\gamma \\textbf{x}^{(i)}_{new} + \\beta$\n",
        "\n",
        "$\\mu$ is the mean over the mini-batch that has m training instances \n",
        " \n",
        "$\\textbf{x}$. $\\sigma$ is the standard deviation, \n",
        "\n",
        "$\\textbf{x}^{(i)}_{new}$ is the zero-centered and normalized input $ \\textbf{x}^{(i)}$. \n",
        "\n",
        "$ \\epsilon$ is to avoid division by zero. It is typically set up as $10^{-5}$. \n",
        "\n",
        "$\\gamma$ and $\\beta$ are the scaling and shifting parameters to train.\n",
        "\n",
        "#### Dropout layer\n",
        "\n",
        "[Dropout](http://www.cs.toronto.edu/~rsalakhu/papers/srivastava14a.pdf) works by keeping only a percentage of the \"neurons\" and setting the rest to zero with some probability, 10% in our case. It can be interpreted as sampling the full neural network and updating only the sampled network which approximates training neural networks with different architectures in parallel. "
      ]
    },
    {
      "cell_type": "code",
      "execution_count": null,
      "metadata": {
        "id": "nBc8l-CbJOU4"
      },
      "outputs": [],
      "source": [
        "import torch\n",
        "import torch.nn as nn\n",
        "import torch.optim as optim\n",
        "import torch.nn.functional as F\n",
        "from torch.utils.data import Dataset, DataLoader\n",
        "from sklearn.metrics import confusion_matrix, classification_report"
      ]
    },
    {
      "cell_type": "code",
      "execution_count": null,
      "metadata": {
        "colab": {
          "base_uri": "https://localhost:8080/"
        },
        "id": "dLJeslhOoaA4",
        "outputId": "c10ceb70-97b3-419d-d739-3638f76f0da1"
      },
      "outputs": [
        {
          "name": "stdout",
          "output_type": "stream",
          "text": [
            "Percentage of variance explained by 10 components  = 95.16 %\n"
          ]
        }
      ],
      "source": [
        "sc = StandardScaler()\n",
        "X_norm = sc.fit_transform(X)\n",
        "n_components = 10\n",
        "pca = PCA(n_components)\n",
        "pca.fit(X_norm)\n",
        "\n",
        "X_transformed = pca.transform(X_norm)\n",
        "df_x_norm =  pd.DataFrame(X_transformed)\n",
        "\n",
        "e_var = pca.explained_variance_ratio_.sum() * 100\n",
        "print(f'Percentage of variance explained by {n_components} components  = {e_var:.2f} %')"
      ]
    },
    {
      "cell_type": "code",
      "execution_count": null,
      "metadata": {
        "id": "5AyuRRsHJOU4"
      },
      "outputs": [],
      "source": [
        "# split training and testing data\n",
        "X_train, X_test, y_train, y_test = train_test_split(X_norm, y, test_size=0.33, random_state=69)"
      ]
    },
    {
      "cell_type": "code",
      "execution_count": null,
      "metadata": {
        "id": "09OWdeLWJOU5"
      },
      "outputs": [],
      "source": [
        "## Data loader\n",
        "class Data(Dataset):\n",
        "    \n",
        "    def __init__(self, X_data, y_data):\n",
        "        self.X_data = X_data\n",
        "        self.y_data = y_data\n",
        "        \n",
        "    def __getitem__(self, index):\n",
        "        return self.X_data[index], self.y_data[index]\n",
        "        \n",
        "    def __len__ (self):\n",
        "        return len(self.X_data)\n",
        "      \n",
        "train_data = Data(torch.FloatTensor(X_train), torch.FloatTensor(y_train))\n",
        "test_data = Data(torch.FloatTensor(X_test),torch.FloatTensor(y_test))"
      ]
    },
    {
      "cell_type": "code",
      "execution_count": null,
      "metadata": {
        "id": "nBkhDwZcJOU5"
      },
      "outputs": [],
      "source": [
        "# load training and testing data  \n",
        "batch_size = 64\n",
        "train_loader = DataLoader(dataset=train_data, batch_size = batch_size, shuffle=True)\n",
        "test_loader = DataLoader(dataset=test_data, batch_size=1)"
      ]
    },
    {
      "cell_type": "code",
      "execution_count": null,
      "metadata": {
        "id": "jYYC0LTeJOU5"
      },
      "outputs": [],
      "source": [
        "class NN(nn.Module):\n",
        "    def __init__(self):\n",
        "        super(NN, self).__init__()\n",
        "        self.layer_1 = nn.Linear(30, 20) \n",
        "        self.layer_2 = nn.Linear(20, 15)\n",
        "        self.layer_out = nn.Linear(15, 1) \n",
        "        \n",
        "        self.relu = nn.ReLU()\n",
        "        self.dropout = nn.Dropout(p=0.1)\n",
        "        self.batchnorm = nn.BatchNorm1d(20)\n",
        "        self.batchnorm2 = nn.BatchNorm1d(15)\n",
        "    # forward pass    \n",
        "    def forward(self, inputs):\n",
        "        x = self.relu(self.layer_1(inputs))\n",
        "        x = self.batchnorm(x)\n",
        "        x = self.relu(self.layer_2(x))\n",
        "        x = self.batchnorm2(x)\n",
        "        x = self.dropout(x)\n",
        "        x = self.layer_out(x)\n",
        "        return x"
      ]
    },
    {
      "cell_type": "code",
      "execution_count": null,
      "metadata": {
        "id": "_abuNZhVJOU6"
      },
      "outputs": [],
      "source": [
        "# accuracy function\n",
        "def binary_acc(y_pred, y_test):\n",
        "    y_pred_tag = torch.round(torch.sigmoid(y_pred))\n",
        "    correct_results_sum = (y_pred_tag == y_test).sum().float()\n",
        "    acc = correct_results_sum/y_test.shape[0]\n",
        "    acc = torch.round(acc * 100)\n",
        "    return acc"
      ]
    },
    {
      "cell_type": "code",
      "execution_count": null,
      "metadata": {
        "colab": {
          "base_uri": "https://localhost:8080/"
        },
        "id": "eYGVM2UhJOU6",
        "outputId": "dde54904-84db-4c0d-b6dc-df8d6fed93be"
      },
      "outputs": [
        {
          "name": "stdout",
          "output_type": "stream",
          "text": [
            "NN(\n",
            "  (layer_1): Linear(in_features=30, out_features=20, bias=True)\n",
            "  (layer_2): Linear(in_features=20, out_features=15, bias=True)\n",
            "  (layer_out): Linear(in_features=15, out_features=1, bias=True)\n",
            "  (relu): ReLU()\n",
            "  (dropout): Dropout(p=0.1, inplace=False)\n",
            "  (batchnorm): BatchNorm1d(20, eps=1e-05, momentum=0.1, affine=True, track_running_stats=True)\n",
            "  (batchnorm2): BatchNorm1d(15, eps=1e-05, momentum=0.1, affine=True, track_running_stats=True)\n",
            ")\n"
          ]
        }
      ],
      "source": [
        "# set up loss function and optimizer\n",
        "model = NN()\n",
        "device = torch.device(\"cuda:0\" if torch.cuda.is_available() else \"cpu\")\n",
        "model.to(device)\n",
        "criterion = nn.BCEWithLogitsLoss()\n",
        "optimizer = optim.Adam(model.parameters(), lr=0.001)\n",
        "\n",
        "print(model)"
      ]
    },
    {
      "cell_type": "code",
      "execution_count": null,
      "metadata": {
        "colab": {
          "base_uri": "https://localhost:8080/"
        },
        "id": "eo8JGE0uJOU6",
        "outputId": "cfc7495d-e172-4549-fddc-8e11ce351daa"
      },
      "outputs": [
        {
          "name": "stdout",
          "output_type": "stream",
          "text": [
            "Epoch 10: | Loss: 0.3230 | Acc: 94.500\n",
            "Epoch 20: | Loss: 0.1780 | Acc: 97.500\n",
            "Epoch 30: | Loss: 0.1135 | Acc: 97.833\n",
            "Epoch 40: | Loss: 0.0727 | Acc: 98.833\n",
            "Epoch 50: | Loss: 0.0511 | Acc: 99.000\n",
            "Epoch 60: | Loss: 0.0390 | Acc: 99.167\n",
            "Epoch 70: | Loss: 0.0384 | Acc: 99.167\n",
            "Epoch 80: | Loss: 0.0340 | Acc: 99.333\n",
            "Epoch 90: | Loss: 0.0255 | Acc: 99.500\n",
            "Epoch 100: | Loss: 0.0248 | Acc: 99.000\n"
          ]
        }
      ],
      "source": [
        "# train for 100 epochs\n",
        "epoch = 100\n",
        "pl = {\"loss\":[],\"acc\":[],\"epoch\":[]} \n",
        "model.train()\n",
        "for e in range(1, epoch + 1):\n",
        "    epoch_loss = 0\n",
        "    epoch_acc = 0\n",
        "    for X_batch, y_batch in train_loader:\n",
        "        X_batch, y_batch = X_batch.to(device), y_batch.to(device)\n",
        "        optimizer.zero_grad()\n",
        "        # model pridiction\n",
        "        y_pred = model(X_batch)\n",
        "        # compute loss and accuracy\n",
        "        loss = criterion(y_pred, y_batch.unsqueeze(1))\n",
        "        acc = binary_acc(y_pred, y_batch.unsqueeze(1))\n",
        "        # append loss and accuracy for plotting\n",
        "        pl[\"loss\"].append(loss.item())\n",
        "        pl[\"acc\"].append(acc.item()/100)\n",
        "        pl[\"epoch\"].append(e + 1)\n",
        "        # do backprop and step the optimizer\n",
        "        loss.backward()\n",
        "        optimizer.step()\n",
        "        \n",
        "        epoch_loss += loss.item()\n",
        "        epoch_acc += acc.item()\n",
        "    if e % 10 == 0:\n",
        "        print(f'Epoch {e}: | Loss: {epoch_loss/len(train_loader):.4f} | Acc: {epoch_acc/len(train_loader):.3f}')"
      ]
    },
    {
      "cell_type": "code",
      "execution_count": null,
      "metadata": {
        "id": "PLqhjPg4JOU7"
      },
      "outputs": [],
      "source": [
        "# test the model\n",
        "y_pred = []\n",
        "model.eval()\n",
        "with torch.no_grad():\n",
        "    for X_batch,_ in test_loader:\n",
        "        X_batch = X_batch.to(device)\n",
        "        y_pred.append(torch.round(torch.sigmoid(model(X_batch))).cpu().numpy())\n",
        "\n",
        "y_pred = [a.squeeze().tolist() for a in y_pred]"
      ]
    },
    {
      "cell_type": "code",
      "execution_count": null,
      "metadata": {
        "colab": {
          "base_uri": "https://localhost:8080/"
        },
        "id": "zsH2DF9MJOU7",
        "outputId": "0be668a6-1973-4478-8eb6-23c765cd9868"
      },
      "outputs": [
        {
          "name": "stdout",
          "output_type": "stream",
          "text": [
            "              precision    recall  f1-score   support\n",
            "\n",
            "           0       1.00      0.95      0.98        84\n",
            "           1       0.96      1.00      0.98       104\n",
            "\n",
            "    accuracy                           0.98       188\n",
            "   macro avg       0.98      0.98      0.98       188\n",
            "weighted avg       0.98      0.98      0.98       188\n",
            "\n"
          ]
        }
      ],
      "source": [
        "print(classification_report(y_test, y_pred))"
      ]
    },
    {
      "cell_type": "code",
      "execution_count": null,
      "metadata": {
        "colab": {
          "base_uri": "https://localhost:8080/",
          "height": 497
        },
        "id": "XC0ShqBRJOU7",
        "outputId": "7d29755e-82bf-454f-fb09-1021e5273177"
      },
      "outputs": [
        {
          "data": {
            "image/png": "[encoded data removed]",
            "text/plain": [
              "<Figure size 1080x576 with 1 Axes>"
            ]
          },
          "metadata": {
            "needs_background": "light"
          },
          "output_type": "display_data"
        }
      ],
      "source": [
        "fig, ax = plt.subplots()\n",
        "\n",
        "sns.lineplot(data = pl ,x = \"epoch\", y = \"loss\",color = 'r')\n",
        "sns.lineplot(data = pl ,x = \"epoch\", y = \"acc\",color = 'b')\n",
        "\n",
        "ax.legend( ('Loss', 'Accuracy') )\n",
        "ax.set_xlabel('Epoch')\n",
        "ax.set_ylabel('Accuracy & loss')\n",
        "ax.grid()\n",
        "fig.set_figwidth(15)\n",
        "fig.set_figheight(8)"
      ]
    },
    {
      "cell_type": "markdown",
      "metadata": {
        "id": "9gGPQAKR6v8a"
      },
      "source": [
        "## Receiver Operating Characteristic (ROC)\n",
        "\n",
        "Using a binary classifier in practice for something as important as detecting breast cancer, avoiding false negatives in our classification is imperative. When applying this classifier, the worst possible scenario would be classifying a real breast cancer patient's malignant tumor as benign.\n",
        "\n",
        "Given that false negatives are the worst case scenario, it makes sense to maximize the number of false positives, within reason. The accuracy of the classifier is not equally important in both directions due to the extreme consequences of a misclassification towards false negative.\n",
        "\n",
        "For classifiers that output probability values between 0 and 1, one of the hyperparameters we can adjust is the threshold for positive and negative classifications. As an example, one could choose a threshold of 0.5 for positive and negative classifications. If a classifier outputs a probability of 0.49 for a patient's tumor being malignant, there is likely still cause for concern. Thus, even if our classifier has an optimal threshold of 0.5 for maximizing overall accuracy, it makes sense to adjust the threshold such that false negatives are avoided more often, even at the cost of overall accuracy.\n",
        "\n",
        "Below is an example of creating an ROC plot for a trained neural network using SKLearn.\n",
        "\n"
      ]
    },
    {
      "cell_type": "code",
      "execution_count": null,
      "metadata": {
        "colab": {
          "base_uri": "https://localhost:8080/",
          "height": 315
        },
        "id": "mHaZ9LtaI64T",
        "outputId": "d07178d3-5587-4a6a-bdde-e521d8f0c5e7"
      },
      "outputs": [
        {
          "data": {
            "image/png": "[encoded data removed]",
            "text/plain": [
              "<Figure size 432x288 with 1 Axes>"
            ]
          },
          "metadata": {
            "needs_background": "light"
          },
          "output_type": "display_data"
        },
        {
          "data": {
            "text/plain": [
              "array([2., 1., 0.])"
            ]
          },
          "metadata": {},
          "output_type": "display_data"
        }
      ],
      "source": [
        "#y_score = clf.predict_proba(X_test)\n",
        "#y_score = y_score[:,1]\n",
        "\n",
        "from sklearn import svm, datasets\n",
        "from sklearn.metrics import roc_curve, auc\n",
        "from sklearn.model_selection import train_test_split\n",
        "from sklearn.preprocessing import label_binarize\n",
        "\n",
        "fpr = dict()\n",
        "tpr = dict()\n",
        "roc_auc = dict()\n",
        "fpr, tpr, thresholds = roc_curve(y_test, y_pred)\n",
        "\n",
        "plt.style.use('classic')\n",
        "%matplotlib inline\n",
        "\n",
        "plt.figure()\n",
        "lw = 2\n",
        "plt.plot(\n",
        "    fpr,\n",
        "    tpr,\n",
        "    color=\"darkorange\",\n",
        "    lw=lw,\n",
        "    label=\"ROC curve (area = %0.2f)\",\n",
        ")\n",
        "plt.plot([0, 1], [0, 1], color=\"navy\", lw=lw, linestyle=\"--\")\n",
        "plt.xlim([0.0, 1.0])\n",
        "plt.ylim([0.0, 1.05])\n",
        "plt.xlabel(\"False Positive Rate\")\n",
        "plt.ylabel(\"True Positive Rate\")\n",
        "plt.title(\"Receiver operating characteristic example\")\n",
        "plt.legend(loc=\"lower right\")\n",
        "plt.show()\n",
        "\n",
        "display(thresholds)"
      ]
    },
    {
      "cell_type": "markdown",
      "metadata": {
        "id": "9n2q-Kacyl1o"
      },
      "source": [
        "The ROC plot above can be interpreted as follows:\n",
        "\n",
        "The axes of the plot are the true positive rate (TPR) and the false positive rate (FPR). For maximal classification accuracy, the optimal value of TPR is 1.0, as in all positives are labelled as such, and the optimal value of FPR is 0, meaning we did not misclassify any negative labels.\n",
        "\n",
        "The dotted blue line represents the expected performance of a random classifier. The TPR and FPR would normally be equal in this case, hence the line being straight. The orange line represents the curve generated by various thresholds and their respective TPR and FPR values. Optimal thresholds for the classifier exist at the top right of the graph, since points towards the left reduce false positives, and towards the top increase true positives.\n",
        "\n",
        "For our needs, moving the threshold value towards the right of the curve (increasing false positives, and as a result, decreasing false negatives). The ```roc_curve``` output from SKL provides a list of thresholds to try that correspond to the TPR/FPR points in the graph."
      ]
    },
    {
      "cell_type": "markdown",
      "metadata": {
        "id": "roIvlBvOJOUw"
      },
      "source": [
        "## Overall Findings"
      ]
    },
    {
      "cell_type": "markdown",
      "metadata": {
        "id": "MzvGfybrcVx5"
      },
      "source": [
        "Altogether, we used 6 different supervised learning algorithms. The first 5 of these classifiers (Logistic Regression, SVC, KNN, Decision Tree, Gaussian, and Random Forest) gave great results that exceeded our expectations, even with minimal training. All of them had training and test accuracy of above 90% without doing PCA. Logistic regression and the Random Forest classifiers stood out as the only ones that reached 95% test accuracy. Performing the PCA analysis allowed us to increase the accuracy for most of the algorithms, as two features, concavity and symmetry, accounted for 70% of the variation in the dataset. The test accuracy of logistic regression, SVC, and KNN classifiers was above 95% when using the dataset post PCA analysis. The accuracy of the Random Forest classifier’s accuracy dropped significantly, however, to just barely above 90%. The results for all the aforementioned classifiers is demonstrated below."
      ]
    },
    {
      "cell_type": "markdown",
      "metadata": {
        "id": "3l-QG65zp2OQ"
      },
      "source": [
        "\n",
        "####Train different models with the original and PCA transformed data"
      ]
    },
    {
      "cell_type": "markdown",
      "metadata": {
        "id": "WiJ_fgJadGXZ"
      },
      "source": [
        "#### Results Without PCA:"
      ]
    },
    {
      "cell_type": "code",
      "execution_count": null,
      "metadata": {
        "id": "YEhPioFpJOU2"
      },
      "outputs": [],
      "source": [
        "# training function for different models\n",
        "def train_eval(models, X_train, X_test, y_train, y_test,):\n",
        "    df_res = pd.DataFrame()\n",
        "    for model in models:\n",
        "        model.fit(X_train, y_train)\n",
        "        # compute training and testing accuracy\n",
        "        train_acc = model.score(X_train, y_train)\n",
        "        test_acc = accuracy_score(y_test, model.predict(X_test))\n",
        "        df_ = pd.DataFrame([[model.__class__.__name__, train_acc, test_acc]],columns= [ \"model\", \"Training Accuracy\", \"Test Accuracy\"])\n",
        "        df_res = df_res.append(df_)\n",
        "    return df_res"
      ]
    },
    {
      "cell_type": "code",
      "execution_count": null,
      "metadata": {
        "id": "HBi1o07mJOU0"
      },
      "outputs": [],
      "source": [
        "# set up models with random states for  reproducibility\n",
        "models = [LogisticRegression(max_iter=2500,random_state=42),SVC(random_state=42),  # logistic reg max_iter=2500 to avoid convergence warning\n",
        "         KNeighborsClassifier(),DecisionTreeClassifier(max_depth= 10,random_state=42),\n",
        "         GaussianNB(), RandomForestClassifier(random_state=42)] \n"
      ]
    },
    {
      "cell_type": "code",
      "execution_count": null,
      "metadata": {
        "colab": {
          "base_uri": "https://localhost:8080/",
          "height": 237
        },
        "id": "aLxovTPFJOU2",
        "outputId": "b52f8fa6-708a-4574-e32a-263af121970e"
      },
      "outputs": [
        {
          "data": {
            "text/html": [
              "\n",
              "  <div id=\"df-6714e142-a145-4e35-bb65-1b8632cfe3e9\">\n",
              "    <div class=\"colab-df-container\">\n",
              "      <div>\n",
              "<style scoped>\n",
              "    .dataframe tbody tr th:only-of-type {\n",
              "        vertical-align: middle;\n",
              "    }\n",
              "\n",
              "    .dataframe tbody tr th {\n",
              "        vertical-align: top;\n",
              "    }\n",
              "\n",
              "    .dataframe thead th {\n",
              "        text-align: right;\n",
              "    }\n",
              "</style>\n",
              "<table border=\"1\" class=\"dataframe\">\n",
              "  <thead>\n",
              "    <tr style=\"text-align: right;\">\n",
              "      <th></th>\n",
              "      <th>model</th>\n",
              "      <th>Training Accuracy</th>\n",
              "      <th>Test Accuracy</th>\n",
              "    </tr>\n",
              "  </thead>\n",
              "  <tbody>\n",
              "    <tr>\n",
              "      <th>0</th>\n",
              "      <td>LogisticRegression</td>\n",
              "      <td>0.989501</td>\n",
              "      <td>0.962766</td>\n",
              "    </tr>\n",
              "    <tr>\n",
              "      <th>1</th>\n",
              "      <td>SVC</td>\n",
              "      <td>0.989501</td>\n",
              "      <td>0.973404</td>\n",
              "    </tr>\n",
              "    <tr>\n",
              "      <th>2</th>\n",
              "      <td>KNeighborsClassifier</td>\n",
              "      <td>0.973753</td>\n",
              "      <td>0.952128</td>\n",
              "    </tr>\n",
              "    <tr>\n",
              "      <th>3</th>\n",
              "      <td>DecisionTreeClassifier</td>\n",
              "      <td>1.000000</td>\n",
              "      <td>0.936170</td>\n",
              "    </tr>\n",
              "    <tr>\n",
              "      <th>4</th>\n",
              "      <td>GaussianNB</td>\n",
              "      <td>0.934383</td>\n",
              "      <td>0.909574</td>\n",
              "    </tr>\n",
              "    <tr>\n",
              "      <th>5</th>\n",
              "      <td>RandomForestClassifier</td>\n",
              "      <td>1.000000</td>\n",
              "      <td>0.962766</td>\n",
              "    </tr>\n",
              "  </tbody>\n",
              "</table>\n",
              "</div>\n",
              "      <button class=\"colab-df-convert\" onclick=\"convertToInteractive('df-6714e142-a145-4e35-bb65-1b8632cfe3e9')\"\n",
              "              title=\"Convert this dataframe to an interactive table.\"\n",
              "              style=\"display:none;\">\n",
              "        \n",
              "  <svg xmlns=\"http://www.w3.org/2000/svg\" height=\"24px\"viewBox=\"0 0 24 24\"\n",
              "       width=\"24px\">\n",
              "    <path d=\"M0 0h24v24H0V0z\" fill=\"none\"/>\n",
              "    <path d=\"M18.56 5.44l.94 2.06.94-2.06 2.06-.94-2.06-.94-.94-2.06-.94 2.06-2.06.94zm-11 1L8.5 8.5l.94-2.06 2.06-.94-2.06-.94L8.5 2.5l-.94 2.06-2.06.94zm10 10l.94 2.06.94-2.06 2.06-.94-2.06-.94-.94-2.06-.94 2.06-2.06.94z\"/><path d=\"M17.41 7.96l-1.37-1.37c-.4-.4-.92-.59-1.43-.59-.52 0-1.04.2-1.43.59L10.3 9.45l-7.72 7.72c-.78.78-.78 2.05 0 2.83L4 21.41c.39.39.9.59 1.41.59.51 0 1.02-.2 1.41-.59l7.78-7.78 2.81-2.81c.8-.78.8-2.07 0-2.86zM5.41 20L4 18.59l7.72-7.72 1.47 1.35L5.41 20z\"/>\n",
              "  </svg>\n",
              "      </button>\n",
              "      \n",
              "  <style>\n",
              "    .colab-df-container {\n",
              "      display:flex;\n",
              "      flex-wrap:wrap;\n",
              "      gap: 12px;\n",
              "    }\n",
              "\n",
              "    .colab-df-convert {\n",
              "      background-color: #E8F0FE;\n",
              "      border: none;\n",
              "      border-radius: 50%;\n",
              "      cursor: pointer;\n",
              "      display: none;\n",
              "      fill: #1967D2;\n",
              "      height: 32px;\n",
              "      padding: 0 0 0 0;\n",
              "      width: 32px;\n",
              "    }\n",
              "\n",
              "    .colab-df-convert:hover {\n",
              "      background-color: #E2EBFA;\n",
              "      box-shadow: 0px 1px 2px rgba(60, 64, 67, 0.3), 0px 1px 3px 1px rgba(60, 64, 67, 0.15);\n",
              "      fill: #174EA6;\n",
              "    }\n",
              "\n",
              "    [theme=dark] .colab-df-convert {\n",
              "      background-color: #3B4455;\n",
              "      fill: #D2E3FC;\n",
              "    }\n",
              "\n",
              "    [theme=dark] .colab-df-convert:hover {\n",
              "      background-color: #434B5C;\n",
              "      box-shadow: 0px 1px 3px 1px rgba(0, 0, 0, 0.15);\n",
              "      filter: drop-shadow(0px 1px 2px rgba(0, 0, 0, 0.3));\n",
              "      fill: #FFFFFF;\n",
              "    }\n",
              "  </style>\n",
              "\n",
              "      <script>\n",
              "        const buttonEl =\n",
              "          document.querySelector('#df-6714e142-a145-4e35-bb65-1b8632cfe3e9 button.colab-df-convert');\n",
              "        buttonEl.style.display =\n",
              "          google.colab.kernel.accessAllowed ? 'block' : 'none';\n",
              "\n",
              "        async function convertToInteractive(key) {\n",
              "          const element = document.querySelector('#df-6714e142-a145-4e35-bb65-1b8632cfe3e9');\n",
              "          const dataTable =\n",
              "            await google.colab.kernel.invokeFunction('convertToInteractive',\n",
              "                                                     [key], {});\n",
              "          if (!dataTable) return;\n",
              "\n",
              "          const docLinkHtml = 'Like what you see? Visit the ' +\n",
              "            '<a target=\"_blank\" href=https://colab.research.google.com/notebooks/data_table.ipynb>data table notebook</a>'\n",
              "            + ' to learn more about interactive tables.';\n",
              "          element.innerHTML = '';\n",
              "          dataTable['output_type'] = 'display_data';\n",
              "          await google.colab.output.renderOutput(dataTable, element);\n",
              "          const docLink = document.createElement('div');\n",
              "          docLink.innerHTML = docLinkHtml;\n",
              "          element.appendChild(docLink);\n",
              "        }\n",
              "      </script>\n",
              "    </div>\n",
              "  </div>\n",
              "  "
            ],
            "text/plain": [
              "                    model  Training Accuracy  Test Accuracy\n",
              "0      LogisticRegression           0.989501       0.962766\n",
              "1                     SVC           0.989501       0.973404\n",
              "2    KNeighborsClassifier           0.973753       0.952128\n",
              "3  DecisionTreeClassifier           1.000000       0.936170\n",
              "4              GaussianNB           0.934383       0.909574\n",
              "5  RandomForestClassifier           1.000000       0.962766"
            ]
          },
          "execution_count": 27,
          "metadata": {},
          "output_type": "execute_result"
        }
      ],
      "source": [
        "# results without pca\n",
        "res = train_eval(models,X_train,X_test, y_train , y_test).reset_index(drop=True)\n",
        "res"
      ]
    },
    {
      "cell_type": "code",
      "execution_count": null,
      "metadata": {
        "colab": {
          "base_uri": "https://localhost:8080/",
          "height": 521
        },
        "id": "hoS51H0oJOU3",
        "outputId": "41c3b694-3d0f-47b4-a265-934188e7e501"
      },
      "outputs": [
        {
          "data": {
            "image/png": "[encoded data removed]",
            "text/plain": [
              "<Figure size 864x576 with 1 Axes>"
            ]
          },
          "metadata": {
            "needs_background": "light"
          },
          "output_type": "display_data"
        }
      ],
      "source": [
        "ax = res.plot(x='model',kind='bar',stacked=False,title='Original data',figsize = (12,8))\n",
        "plt.xticks(rotation = 0, horizontalalignment=\"center\")\n",
        "plt.legend(bbox_to_anchor=(1.0, 1.0), loc='upper left')\n",
        "plt.ylabel('Accuracy')\n",
        "for container in ax.containers:\n",
        "    ax.bar_label(container, fmt= '%.2f')\n",
        "plt.show()\n"
      ]
    },
    {
      "cell_type": "markdown",
      "metadata": {
        "id": "QXteJpJRdLz5"
      },
      "source": [
        "#### PCA Transformed Results"
      ]
    },
    {
      "cell_type": "code",
      "execution_count": null,
      "metadata": {
        "id": "7G7HbBOXpuy0"
      },
      "outputs": [],
      "source": [
        "# split the original data\n",
        "X_train, X_test, y_train, y_test = train_test_split(X, y, test_size = 0.3, random_state = 0)\n",
        "# split the transformed data\n",
        "X_train_t, X_test_t, y_train, y_test  = train_test_split(X_transformed, y, test_size = 0.3, random_state = 0)"
      ]
    },
    {
      "cell_type": "code",
      "execution_count": null,
      "metadata": {
        "colab": {
          "base_uri": "https://localhost:8080/",
          "height": 237
        },
        "id": "X5jgXZE0JOU3",
        "outputId": "15d156bd-9726-4352-bad0-7d5b90a20ae9"
      },
      "outputs": [
        {
          "data": {
            "text/html": [
              "\n",
              "  <div id=\"df-e8718d61-09a6-4d5d-a5bb-2aff2b162df0\">\n",
              "    <div class=\"colab-df-container\">\n",
              "      <div>\n",
              "<style scoped>\n",
              "    .dataframe tbody tr th:only-of-type {\n",
              "        vertical-align: middle;\n",
              "    }\n",
              "\n",
              "    .dataframe tbody tr th {\n",
              "        vertical-align: top;\n",
              "    }\n",
              "\n",
              "    .dataframe thead th {\n",
              "        text-align: right;\n",
              "    }\n",
              "</style>\n",
              "<table border=\"1\" class=\"dataframe\">\n",
              "  <thead>\n",
              "    <tr style=\"text-align: right;\">\n",
              "      <th></th>\n",
              "      <th>model</th>\n",
              "      <th>Training Accuracy</th>\n",
              "      <th>Test Accuracy</th>\n",
              "    </tr>\n",
              "  </thead>\n",
              "  <tbody>\n",
              "    <tr>\n",
              "      <th>0</th>\n",
              "      <td>LogisticRegression</td>\n",
              "      <td>0.984925</td>\n",
              "      <td>0.959064</td>\n",
              "    </tr>\n",
              "    <tr>\n",
              "      <th>1</th>\n",
              "      <td>SVC</td>\n",
              "      <td>0.984925</td>\n",
              "      <td>0.970760</td>\n",
              "    </tr>\n",
              "    <tr>\n",
              "      <th>2</th>\n",
              "      <td>KNeighborsClassifier</td>\n",
              "      <td>0.969849</td>\n",
              "      <td>0.964912</td>\n",
              "    </tr>\n",
              "    <tr>\n",
              "      <th>3</th>\n",
              "      <td>DecisionTreeClassifier</td>\n",
              "      <td>1.000000</td>\n",
              "      <td>0.888889</td>\n",
              "    </tr>\n",
              "    <tr>\n",
              "      <th>4</th>\n",
              "      <td>GaussianNB</td>\n",
              "      <td>0.927136</td>\n",
              "      <td>0.912281</td>\n",
              "    </tr>\n",
              "    <tr>\n",
              "      <th>5</th>\n",
              "      <td>RandomForestClassifier</td>\n",
              "      <td>1.000000</td>\n",
              "      <td>0.906433</td>\n",
              "    </tr>\n",
              "  </tbody>\n",
              "</table>\n",
              "</div>\n",
              "      <button class=\"colab-df-convert\" onclick=\"convertToInteractive('df-e8718d61-09a6-4d5d-a5bb-2aff2b162df0')\"\n",
              "              title=\"Convert this dataframe to an interactive table.\"\n",
              "              style=\"display:none;\">\n",
              "        \n",
              "  <svg xmlns=\"http://www.w3.org/2000/svg\" height=\"24px\"viewBox=\"0 0 24 24\"\n",
              "       width=\"24px\">\n",
              "    <path d=\"M0 0h24v24H0V0z\" fill=\"none\"/>\n",
              "    <path d=\"M18.56 5.44l.94 2.06.94-2.06 2.06-.94-2.06-.94-.94-2.06-.94 2.06-2.06.94zm-11 1L8.5 8.5l.94-2.06 2.06-.94-2.06-.94L8.5 2.5l-.94 2.06-2.06.94zm10 10l.94 2.06.94-2.06 2.06-.94-2.06-.94-.94-2.06-.94 2.06-2.06.94z\"/><path d=\"M17.41 7.96l-1.37-1.37c-.4-.4-.92-.59-1.43-.59-.52 0-1.04.2-1.43.59L10.3 9.45l-7.72 7.72c-.78.78-.78 2.05 0 2.83L4 21.41c.39.39.9.59 1.41.59.51 0 1.02-.2 1.41-.59l7.78-7.78 2.81-2.81c.8-.78.8-2.07 0-2.86zM5.41 20L4 18.59l7.72-7.72 1.47 1.35L5.41 20z\"/>\n",
              "  </svg>\n",
              "      </button>\n",
              "      \n",
              "  <style>\n",
              "    .colab-df-container {\n",
              "      display:flex;\n",
              "      flex-wrap:wrap;\n",
              "      gap: 12px;\n",
              "    }\n",
              "\n",
              "    .colab-df-convert {\n",
              "      background-color: #E8F0FE;\n",
              "      border: none;\n",
              "      border-radius: 50%;\n",
              "      cursor: pointer;\n",
              "      display: none;\n",
              "      fill: #1967D2;\n",
              "      height: 32px;\n",
              "      padding: 0 0 0 0;\n",
              "      width: 32px;\n",
              "    }\n",
              "\n",
              "    .colab-df-convert:hover {\n",
              "      background-color: #E2EBFA;\n",
              "      box-shadow: 0px 1px 2px rgba(60, 64, 67, 0.3), 0px 1px 3px 1px rgba(60, 64, 67, 0.15);\n",
              "      fill: #174EA6;\n",
              "    }\n",
              "\n",
              "    [theme=dark] .colab-df-convert {\n",
              "      background-color: #3B4455;\n",
              "      fill: #D2E3FC;\n",
              "    }\n",
              "\n",
              "    [theme=dark] .colab-df-convert:hover {\n",
              "      background-color: #434B5C;\n",
              "      box-shadow: 0px 1px 3px 1px rgba(0, 0, 0, 0.15);\n",
              "      filter: drop-shadow(0px 1px 2px rgba(0, 0, 0, 0.3));\n",
              "      fill: #FFFFFF;\n",
              "    }\n",
              "  </style>\n",
              "\n",
              "      <script>\n",
              "        const buttonEl =\n",
              "          document.querySelector('#df-e8718d61-09a6-4d5d-a5bb-2aff2b162df0 button.colab-df-convert');\n",
              "        buttonEl.style.display =\n",
              "          google.colab.kernel.accessAllowed ? 'block' : 'none';\n",
              "\n",
              "        async function convertToInteractive(key) {\n",
              "          const element = document.querySelector('#df-e8718d61-09a6-4d5d-a5bb-2aff2b162df0');\n",
              "          const dataTable =\n",
              "            await google.colab.kernel.invokeFunction('convertToInteractive',\n",
              "                                                     [key], {});\n",
              "          if (!dataTable) return;\n",
              "\n",
              "          const docLinkHtml = 'Like what you see? Visit the ' +\n",
              "            '<a target=\"_blank\" href=https://colab.research.google.com/notebooks/data_table.ipynb>data table notebook</a>'\n",
              "            + ' to learn more about interactive tables.';\n",
              "          element.innerHTML = '';\n",
              "          dataTable['output_type'] = 'display_data';\n",
              "          await google.colab.output.renderOutput(dataTable, element);\n",
              "          const docLink = document.createElement('div');\n",
              "          docLink.innerHTML = docLinkHtml;\n",
              "          element.appendChild(docLink);\n",
              "        }\n",
              "      </script>\n",
              "    </div>\n",
              "  </div>\n",
              "  "
            ],
            "text/plain": [
              "                    model  Training Accuracy  Test Accuracy\n",
              "0      LogisticRegression           0.984925       0.959064\n",
              "1                     SVC           0.984925       0.970760\n",
              "2    KNeighborsClassifier           0.969849       0.964912\n",
              "3  DecisionTreeClassifier           1.000000       0.888889\n",
              "4              GaussianNB           0.927136       0.912281\n",
              "5  RandomForestClassifier           1.000000       0.906433"
            ]
          },
          "execution_count": 30,
          "metadata": {},
          "output_type": "execute_result"
        }
      ],
      "source": [
        "# pca transformed\n",
        "res_ = train_eval(models,X_train_t,X_test_t, y_train , y_test).reset_index(drop=True)\n",
        "res_"
      ]
    },
    {
      "cell_type": "code",
      "execution_count": null,
      "metadata": {
        "colab": {
          "base_uri": "https://localhost:8080/",
          "height": 521
        },
        "id": "YbM-kuj8JOU3",
        "outputId": "ae6cceee-e56f-4b39-c403-004cf54e4502"
      },
      "outputs": [
        {
          "data": {
            "image/png": "[encoded data removed]",
            "text/plain": [
              "<Figure size 864x576 with 1 Axes>"
            ]
          },
          "metadata": {
            "needs_background": "light"
          },
          "output_type": "display_data"
        }
      ],
      "source": [
        "ax = res_.plot(x='model',kind='bar',stacked=False,title='PCA transformed',figsize = (12,8))\n",
        "plt.xticks(rotation = 0, horizontalalignment=\"center\")\n",
        "plt.legend(bbox_to_anchor=(1.0, 1.0), loc='upper left')\n",
        "plt.ylabel('Accuracy')\n",
        "for container in ax.containers:\n",
        "    ax.bar_label(container, fmt= '%.2f')\n",
        "plt.show()"
      ]
    },
    {
      "cell_type": "markdown",
      "metadata": {
        "id": "0r66houNdVwa"
      },
      "source": [
        "The base accuracy of our 6th algorithm, a neural network implemented with sklearn, was higher than any of the other 5 algorithms used at 97% test accuracy. Only the SVC algorithm matched this accuracy with the PCA analysis, however, PCA by nature has some information loss which could cause unexpected results for some cases. Thus, so it would be better to avoid PCA for medical cases where accuracy and a complete picture of the data, in all cases, is paramount. This made neural networks the only natural choice for detecting breast cancer from a fine needle aspirate. \n"
      ]
    },
    {
      "cell_type": "markdown",
      "metadata": {
        "id": "hPZ9o_V_dX-1"
      },
      "source": [
        "#Code Used in Analysis and Further Reading"
      ]
    },
    {
      "cell_type": "markdown",
      "metadata": {
        "id": "m-dK3eqwcggp"
      },
      "source": [
        "####Setting up PCA:"
      ]
    },
    {
      "cell_type": "code",
      "execution_count": null,
      "metadata": {
        "colab": {
          "base_uri": "https://localhost:8080/"
        },
        "id": "iPcIGSvZJOUy",
        "outputId": "033f7d86-fedd-4cff-dd5d-5c72c5ac6630"
      },
      "outputs": [
        {
          "name": "stdout",
          "output_type": "stream",
          "text": [
            "Percentage of variance explained by 10 components  = 95.16 %\n"
          ]
        }
      ],
      "source": [
        "sc = StandardScaler()\n",
        "X_norm = sc.fit_transform(X)\n",
        "n_components = 10\n",
        "pca = PCA(n_components)\n",
        "pca.fit(X_norm)\n",
        "\n",
        "X_transformed = pca.transform(X_norm)\n",
        "df_x_norm =  pd.DataFrame(X_transformed)\n",
        "\n",
        "e_var = pca.explained_variance_ratio_.sum() * 100\n",
        "print(f'Percentage of variance explained by {n_components} components  = {e_var:.2f} %')"
      ]
    },
    {
      "cell_type": "code",
      "execution_count": null,
      "metadata": {
        "colab": {
          "base_uri": "https://localhost:8080/",
          "height": 513
        },
        "id": "3NQ2q6U_JOUz",
        "outputId": "7a4e9643-c56a-4341-c0ca-169473a7b7d9"
      },
      "outputs": [
        {
          "data": {
            "image/png": "[encoded data removed]",
            "text/plain": [
              "<Figure size 1080x576 with 1 Axes>"
            ]
          },
          "metadata": {
            "needs_background": "light"
          },
          "output_type": "display_data"
        }
      ],
      "source": [
        "eigenvalues, eigenvectors = pca.explained_variance_, pca.components_\n",
        "# proportion of variance explained by each feature\n",
        "sum_eigenvalues = np.sum(eigenvalues)\n",
        "\n",
        "prop_var = [i/sum_eigenvalues for i in eigenvalues]\n",
        "\n",
        "# cumulative variance\n",
        "cum_var = [np.sum(prop_var[:i+1]) for i in range(len(prop_var))]\n",
        "\n",
        "x_labels = ['PC{}'.format(i+1) for i in range(len(prop_var))]\n",
        "fig, ax = plt.subplots()\n",
        "\n",
        "ax.plot(x_labels, prop_var, marker='o', markersize=6, color='skyblue', linewidth=2, label='Proportion of variance')\n",
        "ax.plot(x_labels, cum_var, marker='o', color='orange', linewidth=2, label=\"Cumulative variance\")\n",
        "ax.legend()\n",
        "ax.set_xlabel('Principal components')\n",
        "ax.set_ylabel('Proportion of variance')\n",
        "ax.set_title('Scree plot')\n",
        "ax.set_yticks(np.arange(0,1.05,0.05))\n",
        "ax.grid()\n",
        "fig.set_figwidth(15)\n",
        "fig.set_figheight(8)"
      ]
    },
    {
      "cell_type": "markdown",
      "metadata": {
        "id": "pVSnkCotlZsR"
      },
      "source": [
        "###Decision Tree\n"
      ]
    },
    {
      "cell_type": "code",
      "execution_count": null,
      "metadata": {
        "id": "x_E-upwVlvPE"
      },
      "outputs": [],
      "source": [
        "# non-PCA tree\n",
        "X_train, X_test, y_train, y_test = train_test_split(X, y, test_size = 0.3, random_state = 0)\n",
        "df_res = pd.DataFrame()\n",
        "for x in range(1, 11, 1):\n",
        "  model = DecisionTreeClassifier(max_depth= x,random_state=42)\n",
        "  model.fit(X_train, y_train)\n",
        "  train_acc = model.score(X_train, y_train)\n",
        "  test_acc = accuracy_score(y_test, model.predict(X_test))\n",
        "  df_ = pd.DataFrame([[x, train_acc, test_acc]],columns= [ \"depth\", \"Training Accuracy\", \"Test Accuracy\"])\n",
        "  df_res = df_res.append(df_)"
      ]
    },
    {
      "cell_type": "code",
      "execution_count": null,
      "metadata": {
        "colab": {
          "base_uri": "https://localhost:8080/",
          "height": 363
        },
        "id": "HFpNepjKmGb3",
        "outputId": "fb9e8dd7-cc11-4250-ef5b-b8eaff0eea5b"
      },
      "outputs": [
        {
          "data": {
            "text/html": [
              "\n",
              "  <div id=\"df-15e536be-764c-4c14-8899-5ad6de14438f\">\n",
              "    <div class=\"colab-df-container\">\n",
              "      <div>\n",
              "<style scoped>\n",
              "    .dataframe tbody tr th:only-of-type {\n",
              "        vertical-align: middle;\n",
              "    }\n",
              "\n",
              "    .dataframe tbody tr th {\n",
              "        vertical-align: top;\n",
              "    }\n",
              "\n",
              "    .dataframe thead th {\n",
              "        text-align: right;\n",
              "    }\n",
              "</style>\n",
              "<table border=\"1\" class=\"dataframe\">\n",
              "  <thead>\n",
              "    <tr style=\"text-align: right;\">\n",
              "      <th></th>\n",
              "      <th>depth</th>\n",
              "      <th>Training Accuracy</th>\n",
              "      <th>Test Accuracy</th>\n",
              "    </tr>\n",
              "  </thead>\n",
              "  <tbody>\n",
              "    <tr>\n",
              "      <th>0</th>\n",
              "      <td>1</td>\n",
              "      <td>0.929648</td>\n",
              "      <td>0.894737</td>\n",
              "    </tr>\n",
              "    <tr>\n",
              "      <th>0</th>\n",
              "      <td>2</td>\n",
              "      <td>0.959799</td>\n",
              "      <td>0.947368</td>\n",
              "    </tr>\n",
              "    <tr>\n",
              "      <th>0</th>\n",
              "      <td>3</td>\n",
              "      <td>0.967337</td>\n",
              "      <td>0.941520</td>\n",
              "    </tr>\n",
              "    <tr>\n",
              "      <th>0</th>\n",
              "      <td>4</td>\n",
              "      <td>0.977387</td>\n",
              "      <td>0.935673</td>\n",
              "    </tr>\n",
              "    <tr>\n",
              "      <th>0</th>\n",
              "      <td>5</td>\n",
              "      <td>0.987437</td>\n",
              "      <td>0.941520</td>\n",
              "    </tr>\n",
              "    <tr>\n",
              "      <th>0</th>\n",
              "      <td>6</td>\n",
              "      <td>0.997487</td>\n",
              "      <td>0.947368</td>\n",
              "    </tr>\n",
              "    <tr>\n",
              "      <th>0</th>\n",
              "      <td>7</td>\n",
              "      <td>1.000000</td>\n",
              "      <td>0.929825</td>\n",
              "    </tr>\n",
              "    <tr>\n",
              "      <th>0</th>\n",
              "      <td>8</td>\n",
              "      <td>1.000000</td>\n",
              "      <td>0.929825</td>\n",
              "    </tr>\n",
              "    <tr>\n",
              "      <th>0</th>\n",
              "      <td>9</td>\n",
              "      <td>1.000000</td>\n",
              "      <td>0.929825</td>\n",
              "    </tr>\n",
              "    <tr>\n",
              "      <th>0</th>\n",
              "      <td>10</td>\n",
              "      <td>1.000000</td>\n",
              "      <td>0.929825</td>\n",
              "    </tr>\n",
              "  </tbody>\n",
              "</table>\n",
              "</div>\n",
              "      <button class=\"colab-df-convert\" onclick=\"convertToInteractive('df-15e536be-764c-4c14-8899-5ad6de14438f')\"\n",
              "              title=\"Convert this dataframe to an interactive table.\"\n",
              "              style=\"display:none;\">\n",
              "        \n",
              "  <svg xmlns=\"http://www.w3.org/2000/svg\" height=\"24px\"viewBox=\"0 0 24 24\"\n",
              "       width=\"24px\">\n",
              "    <path d=\"M0 0h24v24H0V0z\" fill=\"none\"/>\n",
              "    <path d=\"M18.56 5.44l.94 2.06.94-2.06 2.06-.94-2.06-.94-.94-2.06-.94 2.06-2.06.94zm-11 1L8.5 8.5l.94-2.06 2.06-.94-2.06-.94L8.5 2.5l-.94 2.06-2.06.94zm10 10l.94 2.06.94-2.06 2.06-.94-2.06-.94-.94-2.06-.94 2.06-2.06.94z\"/><path d=\"M17.41 7.96l-1.37-1.37c-.4-.4-.92-.59-1.43-.59-.52 0-1.04.2-1.43.59L10.3 9.45l-7.72 7.72c-.78.78-.78 2.05 0 2.83L4 21.41c.39.39.9.59 1.41.59.51 0 1.02-.2 1.41-.59l7.78-7.78 2.81-2.81c.8-.78.8-2.07 0-2.86zM5.41 20L4 18.59l7.72-7.72 1.47 1.35L5.41 20z\"/>\n",
              "  </svg>\n",
              "      </button>\n",
              "      \n",
              "  <style>\n",
              "    .colab-df-container {\n",
              "      display:flex;\n",
              "      flex-wrap:wrap;\n",
              "      gap: 12px;\n",
              "    }\n",
              "\n",
              "    .colab-df-convert {\n",
              "      background-color: #E8F0FE;\n",
              "      border: none;\n",
              "      border-radius: 50%;\n",
              "      cursor: pointer;\n",
              "      display: none;\n",
              "      fill: #1967D2;\n",
              "      height: 32px;\n",
              "      padding: 0 0 0 0;\n",
              "      width: 32px;\n",
              "    }\n",
              "\n",
              "    .colab-df-convert:hover {\n",
              "      background-color: #E2EBFA;\n",
              "      box-shadow: 0px 1px 2px rgba(60, 64, 67, 0.3), 0px 1px 3px 1px rgba(60, 64, 67, 0.15);\n",
              "      fill: #174EA6;\n",
              "    }\n",
              "\n",
              "    [theme=dark] .colab-df-convert {\n",
              "      background-color: #3B4455;\n",
              "      fill: #D2E3FC;\n",
              "    }\n",
              "\n",
              "    [theme=dark] .colab-df-convert:hover {\n",
              "      background-color: #434B5C;\n",
              "      box-shadow: 0px 1px 3px 1px rgba(0, 0, 0, 0.15);\n",
              "      filter: drop-shadow(0px 1px 2px rgba(0, 0, 0, 0.3));\n",
              "      fill: #FFFFFF;\n",
              "    }\n",
              "  </style>\n",
              "\n",
              "      <script>\n",
              "        const buttonEl =\n",
              "          document.querySelector('#df-15e536be-764c-4c14-8899-5ad6de14438f button.colab-df-convert');\n",
              "        buttonEl.style.display =\n",
              "          google.colab.kernel.accessAllowed ? 'block' : 'none';\n",
              "\n",
              "        async function convertToInteractive(key) {\n",
              "          const element = document.querySelector('#df-15e536be-764c-4c14-8899-5ad6de14438f');\n",
              "          const dataTable =\n",
              "            await google.colab.kernel.invokeFunction('convertToInteractive',\n",
              "                                                     [key], {});\n",
              "          if (!dataTable) return;\n",
              "\n",
              "          const docLinkHtml = 'Like what you see? Visit the ' +\n",
              "            '<a target=\"_blank\" href=https://colab.research.google.com/notebooks/data_table.ipynb>data table notebook</a>'\n",
              "            + ' to learn more about interactive tables.';\n",
              "          element.innerHTML = '';\n",
              "          dataTable['output_type'] = 'display_data';\n",
              "          await google.colab.output.renderOutput(dataTable, element);\n",
              "          const docLink = document.createElement('div');\n",
              "          docLink.innerHTML = docLinkHtml;\n",
              "          element.appendChild(docLink);\n",
              "        }\n",
              "      </script>\n",
              "    </div>\n",
              "  </div>\n",
              "  "
            ],
            "text/plain": [
              "   depth  Training Accuracy  Test Accuracy\n",
              "0      1           0.929648       0.894737\n",
              "0      2           0.959799       0.947368\n",
              "0      3           0.967337       0.941520\n",
              "0      4           0.977387       0.935673\n",
              "0      5           0.987437       0.941520\n",
              "0      6           0.997487       0.947368\n",
              "0      7           1.000000       0.929825\n",
              "0      8           1.000000       0.929825\n",
              "0      9           1.000000       0.929825\n",
              "0     10           1.000000       0.929825"
            ]
          },
          "execution_count": 33,
          "metadata": {},
          "output_type": "execute_result"
        }
      ],
      "source": [
        "df_res"
      ]
    },
    {
      "cell_type": "code",
      "execution_count": null,
      "metadata": {
        "id": "zxwaB7MkooOu"
      },
      "outputs": [],
      "source": [
        "sc = StandardScaler()\n",
        "X_norm = sc.fit_transform(X)\n",
        "n_components = 10\n",
        "pca = PCA(n_components)\n",
        "pca.fit(X_norm)\n",
        "\n",
        "X_transformed = pca.transform(X_norm)\n",
        "df_x_norm =  pd.DataFrame(X_transformed)\n",
        "\n",
        "e_var = pca.explained_variance_ratio_.sum() * 100"
      ]
    },
    {
      "cell_type": "code",
      "execution_count": null,
      "metadata": {
        "id": "Mt9ces-aopVJ"
      },
      "outputs": [],
      "source": [
        "#best depth for PCA transformed data\n",
        "X_train_t, X_test_t, y_train, y_test  = train_test_split(X_transformed, y, test_size = 0.3, random_state = 0)\n",
        "df_res2 = pd.DataFrame()\n",
        "for x in range(1, 11, 1):\n",
        "  model = DecisionTreeClassifier(max_depth= x,random_state=42)\n",
        "  model.fit(X_train_t, y_train)\n",
        "  train_acc = model.score(X_train_t, y_train)\n",
        "  test_acc = accuracy_score(y_test, model.predict(X_test_t))\n",
        "  df_2 = pd.DataFrame([[x, train_acc, test_acc]],columns= [ \"depth\", \"Training Accuracy\", \"Test Accuracy\"])\n",
        "  df_res2 = df_res2.append(df_2)"
      ]
    },
    {
      "cell_type": "code",
      "execution_count": null,
      "metadata": {
        "colab": {
          "base_uri": "https://localhost:8080/",
          "height": 363
        },
        "id": "YGObX9IOoteU",
        "outputId": "a8a0d44d-59ff-49e9-e512-d9d44b72354b"
      },
      "outputs": [
        {
          "data": {
            "text/html": [
              "\n",
              "  <div id=\"df-ff4bb912-e8eb-4e42-9174-e8c06b92c179\">\n",
              "    <div class=\"colab-df-container\">\n",
              "      <div>\n",
              "<style scoped>\n",
              "    .dataframe tbody tr th:only-of-type {\n",
              "        vertical-align: middle;\n",
              "    }\n",
              "\n",
              "    .dataframe tbody tr th {\n",
              "        vertical-align: top;\n",
              "    }\n",
              "\n",
              "    .dataframe thead th {\n",
              "        text-align: right;\n",
              "    }\n",
              "</style>\n",
              "<table border=\"1\" class=\"dataframe\">\n",
              "  <thead>\n",
              "    <tr style=\"text-align: right;\">\n",
              "      <th></th>\n",
              "      <th>depth</th>\n",
              "      <th>Training Accuracy</th>\n",
              "      <th>Test Accuracy</th>\n",
              "    </tr>\n",
              "  </thead>\n",
              "  <tbody>\n",
              "    <tr>\n",
              "      <th>0</th>\n",
              "      <td>1</td>\n",
              "      <td>0.934673</td>\n",
              "      <td>0.871345</td>\n",
              "    </tr>\n",
              "    <tr>\n",
              "      <th>0</th>\n",
              "      <td>2</td>\n",
              "      <td>0.942211</td>\n",
              "      <td>0.871345</td>\n",
              "    </tr>\n",
              "    <tr>\n",
              "      <th>0</th>\n",
              "      <td>3</td>\n",
              "      <td>0.962312</td>\n",
              "      <td>0.865497</td>\n",
              "    </tr>\n",
              "    <tr>\n",
              "      <th>0</th>\n",
              "      <td>4</td>\n",
              "      <td>0.974874</td>\n",
              "      <td>0.865497</td>\n",
              "    </tr>\n",
              "    <tr>\n",
              "      <th>0</th>\n",
              "      <td>5</td>\n",
              "      <td>0.984925</td>\n",
              "      <td>0.900585</td>\n",
              "    </tr>\n",
              "    <tr>\n",
              "      <th>0</th>\n",
              "      <td>6</td>\n",
              "      <td>0.994975</td>\n",
              "      <td>0.877193</td>\n",
              "    </tr>\n",
              "    <tr>\n",
              "      <th>0</th>\n",
              "      <td>7</td>\n",
              "      <td>0.997487</td>\n",
              "      <td>0.877193</td>\n",
              "    </tr>\n",
              "    <tr>\n",
              "      <th>0</th>\n",
              "      <td>8</td>\n",
              "      <td>0.997487</td>\n",
              "      <td>0.871345</td>\n",
              "    </tr>\n",
              "    <tr>\n",
              "      <th>0</th>\n",
              "      <td>9</td>\n",
              "      <td>1.000000</td>\n",
              "      <td>0.888889</td>\n",
              "    </tr>\n",
              "    <tr>\n",
              "      <th>0</th>\n",
              "      <td>10</td>\n",
              "      <td>1.000000</td>\n",
              "      <td>0.888889</td>\n",
              "    </tr>\n",
              "  </tbody>\n",
              "</table>\n",
              "</div>\n",
              "      <button class=\"colab-df-convert\" onclick=\"convertToInteractive('df-ff4bb912-e8eb-4e42-9174-e8c06b92c179')\"\n",
              "              title=\"Convert this dataframe to an interactive table.\"\n",
              "              style=\"display:none;\">\n",
              "        \n",
              "  <svg xmlns=\"http://www.w3.org/2000/svg\" height=\"24px\"viewBox=\"0 0 24 24\"\n",
              "       width=\"24px\">\n",
              "    <path d=\"M0 0h24v24H0V0z\" fill=\"none\"/>\n",
              "    <path d=\"M18.56 5.44l.94 2.06.94-2.06 2.06-.94-2.06-.94-.94-2.06-.94 2.06-2.06.94zm-11 1L8.5 8.5l.94-2.06 2.06-.94-2.06-.94L8.5 2.5l-.94 2.06-2.06.94zm10 10l.94 2.06.94-2.06 2.06-.94-2.06-.94-.94-2.06-.94 2.06-2.06.94z\"/><path d=\"M17.41 7.96l-1.37-1.37c-.4-.4-.92-.59-1.43-.59-.52 0-1.04.2-1.43.59L10.3 9.45l-7.72 7.72c-.78.78-.78 2.05 0 2.83L4 21.41c.39.39.9.59 1.41.59.51 0 1.02-.2 1.41-.59l7.78-7.78 2.81-2.81c.8-.78.8-2.07 0-2.86zM5.41 20L4 18.59l7.72-7.72 1.47 1.35L5.41 20z\"/>\n",
              "  </svg>\n",
              "      </button>\n",
              "      \n",
              "  <style>\n",
              "    .colab-df-container {\n",
              "      display:flex;\n",
              "      flex-wrap:wrap;\n",
              "      gap: 12px;\n",
              "    }\n",
              "\n",
              "    .colab-df-convert {\n",
              "      background-color: #E8F0FE;\n",
              "      border: none;\n",
              "      border-radius: 50%;\n",
              "      cursor: pointer;\n",
              "      display: none;\n",
              "      fill: #1967D2;\n",
              "      height: 32px;\n",
              "      padding: 0 0 0 0;\n",
              "      width: 32px;\n",
              "    }\n",
              "\n",
              "    .colab-df-convert:hover {\n",
              "      background-color: #E2EBFA;\n",
              "      box-shadow: 0px 1px 2px rgba(60, 64, 67, 0.3), 0px 1px 3px 1px rgba(60, 64, 67, 0.15);\n",
              "      fill: #174EA6;\n",
              "    }\n",
              "\n",
              "    [theme=dark] .colab-df-convert {\n",
              "      background-color: #3B4455;\n",
              "      fill: #D2E3FC;\n",
              "    }\n",
              "\n",
              "    [theme=dark] .colab-df-convert:hover {\n",
              "      background-color: #434B5C;\n",
              "      box-shadow: 0px 1px 3px 1px rgba(0, 0, 0, 0.15);\n",
              "      filter: drop-shadow(0px 1px 2px rgba(0, 0, 0, 0.3));\n",
              "      fill: #FFFFFF;\n",
              "    }\n",
              "  </style>\n",
              "\n",
              "      <script>\n",
              "        const buttonEl =\n",
              "          document.querySelector('#df-ff4bb912-e8eb-4e42-9174-e8c06b92c179 button.colab-df-convert');\n",
              "        buttonEl.style.display =\n",
              "          google.colab.kernel.accessAllowed ? 'block' : 'none';\n",
              "\n",
              "        async function convertToInteractive(key) {\n",
              "          const element = document.querySelector('#df-ff4bb912-e8eb-4e42-9174-e8c06b92c179');\n",
              "          const dataTable =\n",
              "            await google.colab.kernel.invokeFunction('convertToInteractive',\n",
              "                                                     [key], {});\n",
              "          if (!dataTable) return;\n",
              "\n",
              "          const docLinkHtml = 'Like what you see? Visit the ' +\n",
              "            '<a target=\"_blank\" href=https://colab.research.google.com/notebooks/data_table.ipynb>data table notebook</a>'\n",
              "            + ' to learn more about interactive tables.';\n",
              "          element.innerHTML = '';\n",
              "          dataTable['output_type'] = 'display_data';\n",
              "          await google.colab.output.renderOutput(dataTable, element);\n",
              "          const docLink = document.createElement('div');\n",
              "          docLink.innerHTML = docLinkHtml;\n",
              "          element.appendChild(docLink);\n",
              "        }\n",
              "      </script>\n",
              "    </div>\n",
              "  </div>\n",
              "  "
            ],
            "text/plain": [
              "   depth  Training Accuracy  Test Accuracy\n",
              "0      1           0.934673       0.871345\n",
              "0      2           0.942211       0.871345\n",
              "0      3           0.962312       0.865497\n",
              "0      4           0.974874       0.865497\n",
              "0      5           0.984925       0.900585\n",
              "0      6           0.994975       0.877193\n",
              "0      7           0.997487       0.877193\n",
              "0      8           0.997487       0.871345\n",
              "0      9           1.000000       0.888889\n",
              "0     10           1.000000       0.888889"
            ]
          },
          "execution_count": 36,
          "metadata": {},
          "output_type": "execute_result"
        }
      ],
      "source": [
        "df_res2"
      ]
    },
    {
      "cell_type": "markdown",
      "metadata": {
        "id": "eWOv3rYuxz95"
      },
      "source": [
        "References/Further Reading\n",
        "\n",
        "Breast cancer facts &amp; statistics 2022. breastcancer dot org. (n.d.). Retrieved December 5, 2022, from \n",
        "https://www.breastcancer.org/facts-statistics\n",
        "\n",
        "Street, W. N., Wolberg, W. H., &amp; Mangasarian, O. L. (1993). . SPIE Proceedings. \n",
        "https://doi.org/10.1117/12.148698\n",
        "\n",
        "Fine needle aspiration (FNA) biopsy information. myVMC. (2017, August 16). Retrieved December 6, 2022, from\n",
        "https://www.myvmc.com/investigations/fine-needle-aspiration-biopsy-fna/\n",
        "\n",
        "Kane G, Fleming C, Heneghan H, McCartan D, James P, Trueick R, Harrington L, Nally F, Quinn C, O'Doherty A, McNally S, Rothwell J, Evoy D, Geraghty J, McDermott E, Prichard R. False-negative rate of ultrasound-guided fine-needle aspiration cytology for identifying axillary lymph node metastasis in breast cancer patients. Breast J. 2019 Sep;25(5):848-852. doi: 10.1111/tbj.13402. Epub 2019 Jun 13. PMID: 31197915.\n",
        "\n",
        "Kim Y, Rim J, Kim SM, Yun B, Park SY, Ahn HS, Kim B, Jang M. False-negative results on computer-aided detection software in preoperative automated breast ultrasonography of breast cancer patients. Ultrasonography. 2021 Jan;40(1):83-92. doi: 10.14366/usg.19076. Epub 2020 Mar 24. PMID: 32422696; PMCID: PMC7758101.\n",
        "\n",
        "Bahl, M. (2019). Detecting Breast Cancers with Mammography: Will AI Succeed Where Traditional CAD Failed? In Radiology (Vol. 290, Issue 2, pp. 315–316). Radiological Society of North America (RSNA). https://doi.org/10.1148/radiol.2018182404\n",
        "\n"
      ]
    },
    {
      "cell_type": "code",
      "execution_count": null,
      "metadata": {
        "id": "_t02L108rzI4"
      },
      "outputs": [],
      "source": []
    }
  ],
  "metadata": {
    "colab": {
      "provenance": []
    },
    "kernelspec": {
      "display_name": "Python 3.8.10 64-bit",
      "language": "python",
      "name": "python3"
    },
    "language_info": {
      "codemirror_mode": {
        "name": "ipython",
        "version": 3
      },
      "file_extension": ".py",
      "mimetype": "text/x-python",
      "name": "python",
      "nbconvert_exporter": "python",
      "pygments_lexer": "ipython3",
      "version": "3.8.10 (default, Mar 15 2022, 12:22:08) \n[GCC 9.4.0]"
    },
    "orig_nbformat": 4,
    "vscode": {
      "interpreter": {
        "hash": "31f2aee4e71d21fbe5cf8b01ff0e069b9275f58929596ceb00d14d90e3e16cd6"
      }
    }
  },
  "nbformat": 4,
  "nbformat_minor": 0
}
